{
 "cells": [
  {
   "cell_type": "code",
   "execution_count": 2,
   "id": "499de90b",
   "metadata": {
    "ExecuteTime": {
     "end_time": "2023-04-11T07:48:53.399669Z",
     "start_time": "2023-04-11T07:48:51.067981Z"
    }
   },
   "outputs": [
    {
     "name": "stdout",
     "output_type": "stream",
     "text": [
      "Requirement already satisfied: scattertext in /Users/Link/opt/anaconda3/envs/NLP/lib/python3.9/site-packages (0.1.18)\n",
      "Requirement already satisfied: spacy>=3.2 in /Users/Link/opt/anaconda3/envs/NLP/lib/python3.9/site-packages (from scattertext) (3.5.1)\n",
      "Requirement already satisfied: flashtext in /Users/Link/opt/anaconda3/envs/NLP/lib/python3.9/site-packages (from scattertext) (2.7)\n",
      "Requirement already satisfied: numpy in /Users/Link/opt/anaconda3/envs/NLP/lib/python3.9/site-packages (from scattertext) (1.23.5)\n",
      "Requirement already satisfied: statsmodels in /Users/Link/opt/anaconda3/envs/NLP/lib/python3.9/site-packages (from scattertext) (0.13.5)\n",
      "Requirement already satisfied: scikit-learn in /Users/Link/opt/anaconda3/envs/NLP/lib/python3.9/site-packages (from scattertext) (1.2.2)\n",
      "Requirement already satisfied: gensim>=4.0.0 in /Users/Link/opt/anaconda3/envs/NLP/lib/python3.9/site-packages (from scattertext) (4.3.1)\n",
      "Requirement already satisfied: pandas in /Users/Link/opt/anaconda3/envs/NLP/lib/python3.9/site-packages (from scattertext) (1.5.2)\n",
      "Requirement already satisfied: scipy in /Users/Link/opt/anaconda3/envs/NLP/lib/python3.9/site-packages (from scattertext) (1.10.0)\n",
      "Requirement already satisfied: tqdm in /Users/Link/opt/anaconda3/envs/NLP/lib/python3.9/site-packages (from scattertext) (4.64.1)\n",
      "Requirement already satisfied: smart-open>=1.8.1 in /Users/Link/opt/anaconda3/envs/NLP/lib/python3.9/site-packages (from gensim>=4.0.0->scattertext) (6.3.0)\n",
      "Requirement already satisfied: langcodes<4.0.0,>=3.2.0 in /Users/Link/opt/anaconda3/envs/NLP/lib/python3.9/site-packages (from spacy>=3.2->scattertext) (3.3.0)\n",
      "Requirement already satisfied: cymem<2.1.0,>=2.0.2 in /Users/Link/opt/anaconda3/envs/NLP/lib/python3.9/site-packages (from spacy>=3.2->scattertext) (2.0.7)\n",
      "Requirement already satisfied: preshed<3.1.0,>=3.0.2 in /Users/Link/opt/anaconda3/envs/NLP/lib/python3.9/site-packages (from spacy>=3.2->scattertext) (3.0.8)\n",
      "Requirement already satisfied: packaging>=20.0 in /Users/Link/opt/anaconda3/envs/NLP/lib/python3.9/site-packages (from spacy>=3.2->scattertext) (22.0)\n",
      "Requirement already satisfied: catalogue<2.1.0,>=2.0.6 in /Users/Link/opt/anaconda3/envs/NLP/lib/python3.9/site-packages (from spacy>=3.2->scattertext) (2.0.8)\n",
      "Requirement already satisfied: spacy-legacy<3.1.0,>=3.0.11 in /Users/Link/opt/anaconda3/envs/NLP/lib/python3.9/site-packages (from spacy>=3.2->scattertext) (3.0.12)\n",
      "Requirement already satisfied: jinja2 in /Users/Link/opt/anaconda3/envs/NLP/lib/python3.9/site-packages (from spacy>=3.2->scattertext) (3.1.2)\n",
      "Requirement already satisfied: thinc<8.2.0,>=8.1.8 in /Users/Link/opt/anaconda3/envs/NLP/lib/python3.9/site-packages (from spacy>=3.2->scattertext) (8.1.9)\n",
      "Requirement already satisfied: spacy-loggers<2.0.0,>=1.0.0 in /Users/Link/opt/anaconda3/envs/NLP/lib/python3.9/site-packages (from spacy>=3.2->scattertext) (1.0.4)\n",
      "Requirement already satisfied: srsly<3.0.0,>=2.4.3 in /Users/Link/opt/anaconda3/envs/NLP/lib/python3.9/site-packages (from spacy>=3.2->scattertext) (2.4.6)\n",
      "Requirement already satisfied: pydantic!=1.8,!=1.8.1,<1.11.0,>=1.7.4 in /Users/Link/opt/anaconda3/envs/NLP/lib/python3.9/site-packages (from spacy>=3.2->scattertext) (1.10.7)\n",
      "Requirement already satisfied: murmurhash<1.1.0,>=0.28.0 in /Users/Link/opt/anaconda3/envs/NLP/lib/python3.9/site-packages (from spacy>=3.2->scattertext) (1.0.9)\n",
      "Requirement already satisfied: wasabi<1.2.0,>=0.9.1 in /Users/Link/opt/anaconda3/envs/NLP/lib/python3.9/site-packages (from spacy>=3.2->scattertext) (1.1.1)\n",
      "Requirement already satisfied: setuptools in /Users/Link/opt/anaconda3/envs/NLP/lib/python3.9/site-packages (from spacy>=3.2->scattertext) (65.6.3)\n",
      "Requirement already satisfied: typer<0.8.0,>=0.3.0 in /Users/Link/opt/anaconda3/envs/NLP/lib/python3.9/site-packages (from spacy>=3.2->scattertext) (0.7.0)\n",
      "Requirement already satisfied: requests<3.0.0,>=2.13.0 in /Users/Link/opt/anaconda3/envs/NLP/lib/python3.9/site-packages (from spacy>=3.2->scattertext) (2.28.1)\n",
      "Requirement already satisfied: pathy>=0.10.0 in /Users/Link/opt/anaconda3/envs/NLP/lib/python3.9/site-packages (from spacy>=3.2->scattertext) (0.10.1)\n",
      "Requirement already satisfied: python-dateutil>=2.8.1 in /Users/Link/opt/anaconda3/envs/NLP/lib/python3.9/site-packages (from pandas->scattertext) (2.8.2)\n",
      "Requirement already satisfied: pytz>=2020.1 in /Users/Link/opt/anaconda3/envs/NLP/lib/python3.9/site-packages (from pandas->scattertext) (2022.7)\n",
      "Requirement already satisfied: threadpoolctl>=2.0.0 in /Users/Link/opt/anaconda3/envs/NLP/lib/python3.9/site-packages (from scikit-learn->scattertext) (3.1.0)\n",
      "Requirement already satisfied: joblib>=1.1.1 in /Users/Link/opt/anaconda3/envs/NLP/lib/python3.9/site-packages (from scikit-learn->scattertext) (1.1.1)\n",
      "Requirement already satisfied: patsy>=0.5.2 in /Users/Link/opt/anaconda3/envs/NLP/lib/python3.9/site-packages (from statsmodels->scattertext) (0.5.3)\n",
      "Requirement already satisfied: six in /Users/Link/opt/anaconda3/envs/NLP/lib/python3.9/site-packages (from patsy>=0.5.2->statsmodels->scattertext) (1.16.0)\n",
      "Requirement already satisfied: typing-extensions>=4.2.0 in /Users/Link/opt/anaconda3/envs/NLP/lib/python3.9/site-packages (from pydantic!=1.8,!=1.8.1,<1.11.0,>=1.7.4->spacy>=3.2->scattertext) (4.4.0)\n",
      "Requirement already satisfied: charset-normalizer<3,>=2 in /Users/Link/opt/anaconda3/envs/NLP/lib/python3.9/site-packages (from requests<3.0.0,>=2.13.0->spacy>=3.2->scattertext) (2.0.4)\n",
      "Requirement already satisfied: certifi>=2017.4.17 in /Users/Link/opt/anaconda3/envs/NLP/lib/python3.9/site-packages (from requests<3.0.0,>=2.13.0->spacy>=3.2->scattertext) (2022.12.7)\n",
      "Requirement already satisfied: urllib3<1.27,>=1.21.1 in /Users/Link/opt/anaconda3/envs/NLP/lib/python3.9/site-packages (from requests<3.0.0,>=2.13.0->spacy>=3.2->scattertext) (1.26.14)\n",
      "Requirement already satisfied: idna<4,>=2.5 in /Users/Link/opt/anaconda3/envs/NLP/lib/python3.9/site-packages (from requests<3.0.0,>=2.13.0->spacy>=3.2->scattertext) (3.4)\n",
      "Requirement already satisfied: blis<0.8.0,>=0.7.8 in /Users/Link/opt/anaconda3/envs/NLP/lib/python3.9/site-packages (from thinc<8.2.0,>=8.1.8->spacy>=3.2->scattertext) (0.7.9)\n",
      "Requirement already satisfied: confection<1.0.0,>=0.0.1 in /Users/Link/opt/anaconda3/envs/NLP/lib/python3.9/site-packages (from thinc<8.2.0,>=8.1.8->spacy>=3.2->scattertext) (0.0.4)\n",
      "Requirement already satisfied: click<9.0.0,>=7.1.1 in /Users/Link/opt/anaconda3/envs/NLP/lib/python3.9/site-packages (from typer<0.8.0,>=0.3.0->spacy>=3.2->scattertext) (8.0.4)\n",
      "Requirement already satisfied: MarkupSafe>=2.0 in /Users/Link/opt/anaconda3/envs/NLP/lib/python3.9/site-packages (from jinja2->spacy>=3.2->scattertext) (2.1.1)\n",
      "Requirement already satisfied: spacy in /Users/Link/opt/anaconda3/envs/NLP/lib/python3.9/site-packages (3.5.1)\n",
      "Requirement already satisfied: setuptools in /Users/Link/opt/anaconda3/envs/NLP/lib/python3.9/site-packages (from spacy) (65.6.3)\n",
      "Requirement already satisfied: murmurhash<1.1.0,>=0.28.0 in /Users/Link/opt/anaconda3/envs/NLP/lib/python3.9/site-packages (from spacy) (1.0.9)\n",
      "Requirement already satisfied: preshed<3.1.0,>=3.0.2 in /Users/Link/opt/anaconda3/envs/NLP/lib/python3.9/site-packages (from spacy) (3.0.8)\n",
      "Requirement already satisfied: wasabi<1.2.0,>=0.9.1 in /Users/Link/opt/anaconda3/envs/NLP/lib/python3.9/site-packages (from spacy) (1.1.1)\n",
      "Requirement already satisfied: jinja2 in /Users/Link/opt/anaconda3/envs/NLP/lib/python3.9/site-packages (from spacy) (3.1.2)\n",
      "Requirement already satisfied: packaging>=20.0 in /Users/Link/opt/anaconda3/envs/NLP/lib/python3.9/site-packages (from spacy) (22.0)\n",
      "Requirement already satisfied: cymem<2.1.0,>=2.0.2 in /Users/Link/opt/anaconda3/envs/NLP/lib/python3.9/site-packages (from spacy) (2.0.7)\n",
      "Requirement already satisfied: langcodes<4.0.0,>=3.2.0 in /Users/Link/opt/anaconda3/envs/NLP/lib/python3.9/site-packages (from spacy) (3.3.0)\n",
      "Requirement already satisfied: pathy>=0.10.0 in /Users/Link/opt/anaconda3/envs/NLP/lib/python3.9/site-packages (from spacy) (0.10.1)\n",
      "Requirement already satisfied: numpy>=1.15.0 in /Users/Link/opt/anaconda3/envs/NLP/lib/python3.9/site-packages (from spacy) (1.23.5)\n",
      "Requirement already satisfied: requests<3.0.0,>=2.13.0 in /Users/Link/opt/anaconda3/envs/NLP/lib/python3.9/site-packages (from spacy) (2.28.1)\n",
      "Requirement already satisfied: tqdm<5.0.0,>=4.38.0 in /Users/Link/opt/anaconda3/envs/NLP/lib/python3.9/site-packages (from spacy) (4.64.1)\n",
      "Requirement already satisfied: pydantic!=1.8,!=1.8.1,<1.11.0,>=1.7.4 in /Users/Link/opt/anaconda3/envs/NLP/lib/python3.9/site-packages (from spacy) (1.10.7)\n",
      "Requirement already satisfied: srsly<3.0.0,>=2.4.3 in /Users/Link/opt/anaconda3/envs/NLP/lib/python3.9/site-packages (from spacy) (2.4.6)\n",
      "Requirement already satisfied: catalogue<2.1.0,>=2.0.6 in /Users/Link/opt/anaconda3/envs/NLP/lib/python3.9/site-packages (from spacy) (2.0.8)\n",
      "Requirement already satisfied: typer<0.8.0,>=0.3.0 in /Users/Link/opt/anaconda3/envs/NLP/lib/python3.9/site-packages (from spacy) (0.7.0)\n",
      "Requirement already satisfied: spacy-legacy<3.1.0,>=3.0.11 in /Users/Link/opt/anaconda3/envs/NLP/lib/python3.9/site-packages (from spacy) (3.0.12)\n",
      "Requirement already satisfied: thinc<8.2.0,>=8.1.8 in /Users/Link/opt/anaconda3/envs/NLP/lib/python3.9/site-packages (from spacy) (8.1.9)\n",
      "Requirement already satisfied: smart-open<7.0.0,>=5.2.1 in /Users/Link/opt/anaconda3/envs/NLP/lib/python3.9/site-packages (from spacy) (6.3.0)\n",
      "Requirement already satisfied: spacy-loggers<2.0.0,>=1.0.0 in /Users/Link/opt/anaconda3/envs/NLP/lib/python3.9/site-packages (from spacy) (1.0.4)\n",
      "Requirement already satisfied: typing-extensions>=4.2.0 in /Users/Link/opt/anaconda3/envs/NLP/lib/python3.9/site-packages (from pydantic!=1.8,!=1.8.1,<1.11.0,>=1.7.4->spacy) (4.4.0)\n",
      "Requirement already satisfied: urllib3<1.27,>=1.21.1 in /Users/Link/opt/anaconda3/envs/NLP/lib/python3.9/site-packages (from requests<3.0.0,>=2.13.0->spacy) (1.26.14)\n",
      "Requirement already satisfied: certifi>=2017.4.17 in /Users/Link/opt/anaconda3/envs/NLP/lib/python3.9/site-packages (from requests<3.0.0,>=2.13.0->spacy) (2022.12.7)\n",
      "Requirement already satisfied: idna<4,>=2.5 in /Users/Link/opt/anaconda3/envs/NLP/lib/python3.9/site-packages (from requests<3.0.0,>=2.13.0->spacy) (3.4)\n",
      "Requirement already satisfied: charset-normalizer<3,>=2 in /Users/Link/opt/anaconda3/envs/NLP/lib/python3.9/site-packages (from requests<3.0.0,>=2.13.0->spacy) (2.0.4)\n"
     ]
    },
    {
     "name": "stdout",
     "output_type": "stream",
     "text": [
      "Requirement already satisfied: blis<0.8.0,>=0.7.8 in /Users/Link/opt/anaconda3/envs/NLP/lib/python3.9/site-packages (from thinc<8.2.0,>=8.1.8->spacy) (0.7.9)\r\n",
      "Requirement already satisfied: confection<1.0.0,>=0.0.1 in /Users/Link/opt/anaconda3/envs/NLP/lib/python3.9/site-packages (from thinc<8.2.0,>=8.1.8->spacy) (0.0.4)\r\n",
      "Requirement already satisfied: click<9.0.0,>=7.1.1 in /Users/Link/opt/anaconda3/envs/NLP/lib/python3.9/site-packages (from typer<0.8.0,>=0.3.0->spacy) (8.0.4)\r\n",
      "Requirement already satisfied: MarkupSafe>=2.0 in /Users/Link/opt/anaconda3/envs/NLP/lib/python3.9/site-packages (from jinja2->spacy) (2.1.1)\r\n"
     ]
    }
   ],
   "source": [
    "!pip install scattertext\n",
    "!pip install spacy"
   ]
  },
  {
   "cell_type": "code",
   "execution_count": 3,
   "id": "fce7a3fb",
   "metadata": {
    "ExecuteTime": {
     "end_time": "2023-04-11T07:48:59.657309Z",
     "start_time": "2023-04-11T07:48:54.285596Z"
    }
   },
   "outputs": [
    {
     "name": "stderr",
     "output_type": "stream",
     "text": [
      "2023-04-11 15:48:55.668349: I tensorflow/core/platform/cpu_feature_guard.cc:193] This TensorFlow binary is optimized with oneAPI Deep Neural Network Library (oneDNN) to use the following CPU instructions in performance-critical operations:  SSE4.1 SSE4.2\n",
      "To enable them in other operations, rebuild TensorFlow with the appropriate compiler flags.\n"
     ]
    }
   ],
   "source": [
    "import scattertext as st\n",
    "import pandas as pd\n",
    "import spacy\n",
    "from scattertext import SampleCorpora, PhraseMachinePhrases, dense_rank, RankDifference, AssociationCompactor, produce_scattertext_explorer\n",
    "from scattertext.CorpusFromPandas import CorpusFromPandas\n",
    "import pandas as pd\n",
    "import nltk\n",
    "from nltk.corpus import stopwords\n",
    "from nltk.stem import SnowballStemmer"
   ]
  },
  {
   "cell_type": "code",
   "execution_count": 4,
   "id": "fca1ee13",
   "metadata": {
    "ExecuteTime": {
     "end_time": "2023-04-11T07:49:13.047162Z",
     "start_time": "2023-04-11T07:49:05.698460Z"
    }
   },
   "outputs": [
    {
     "data": {
      "text/html": [
       "<div>\n",
       "<style scoped>\n",
       "    .dataframe tbody tr th:only-of-type {\n",
       "        vertical-align: middle;\n",
       "    }\n",
       "\n",
       "    .dataframe tbody tr th {\n",
       "        vertical-align: top;\n",
       "    }\n",
       "\n",
       "    .dataframe thead th {\n",
       "        text-align: right;\n",
       "    }\n",
       "</style>\n",
       "<table border=\"1\" class=\"dataframe\">\n",
       "  <thead>\n",
       "    <tr style=\"text-align: right;\">\n",
       "      <th></th>\n",
       "      <th>Unnamed: 0</th>\n",
       "      <th>asin</th>\n",
       "      <th>helpful</th>\n",
       "      <th>overall</th>\n",
       "      <th>reviewText</th>\n",
       "      <th>reviewTime</th>\n",
       "      <th>reviewerID</th>\n",
       "      <th>reviewerName</th>\n",
       "      <th>summary</th>\n",
       "      <th>unixReviewTime</th>\n",
       "    </tr>\n",
       "  </thead>\n",
       "  <tbody>\n",
       "    <tr>\n",
       "      <th>0</th>\n",
       "      <td>0</td>\n",
       "      <td>B000F83SZQ</td>\n",
       "      <td>[0, 0]</td>\n",
       "      <td>5</td>\n",
       "      <td>I enjoy vintage books and movies so I enjoyed ...</td>\n",
       "      <td>05 5, 2014</td>\n",
       "      <td>A1F6404F1VG29J</td>\n",
       "      <td>Avidreader</td>\n",
       "      <td>Nice vintage story</td>\n",
       "      <td>1399248000</td>\n",
       "    </tr>\n",
       "    <tr>\n",
       "      <th>1</th>\n",
       "      <td>1</td>\n",
       "      <td>B000F83SZQ</td>\n",
       "      <td>[2, 2]</td>\n",
       "      <td>4</td>\n",
       "      <td>This book is a reissue of an old one; the auth...</td>\n",
       "      <td>01 6, 2014</td>\n",
       "      <td>AN0N05A9LIJEQ</td>\n",
       "      <td>critters</td>\n",
       "      <td>Different...</td>\n",
       "      <td>1388966400</td>\n",
       "    </tr>\n",
       "    <tr>\n",
       "      <th>2</th>\n",
       "      <td>2</td>\n",
       "      <td>B000F83SZQ</td>\n",
       "      <td>[2, 2]</td>\n",
       "      <td>4</td>\n",
       "      <td>This was a fairly interesting read.  It had ol...</td>\n",
       "      <td>04 4, 2014</td>\n",
       "      <td>A795DMNCJILA6</td>\n",
       "      <td>dot</td>\n",
       "      <td>Oldie</td>\n",
       "      <td>1396569600</td>\n",
       "    </tr>\n",
       "    <tr>\n",
       "      <th>3</th>\n",
       "      <td>3</td>\n",
       "      <td>B000F83SZQ</td>\n",
       "      <td>[1, 1]</td>\n",
       "      <td>5</td>\n",
       "      <td>I'd never read any of the Amy Brewster mysteri...</td>\n",
       "      <td>02 19, 2014</td>\n",
       "      <td>A1FV0SX13TWVXQ</td>\n",
       "      <td>Elaine H. Turley \"Montana Songbird\"</td>\n",
       "      <td>I really liked it.</td>\n",
       "      <td>1392768000</td>\n",
       "    </tr>\n",
       "    <tr>\n",
       "      <th>4</th>\n",
       "      <td>4</td>\n",
       "      <td>B000F83SZQ</td>\n",
       "      <td>[0, 1]</td>\n",
       "      <td>4</td>\n",
       "      <td>If you like period pieces - clothing, lingo, y...</td>\n",
       "      <td>03 19, 2014</td>\n",
       "      <td>A3SPTOKDG7WBLN</td>\n",
       "      <td>Father Dowling Fan</td>\n",
       "      <td>Period Mystery</td>\n",
       "      <td>1395187200</td>\n",
       "    </tr>\n",
       "  </tbody>\n",
       "</table>\n",
       "</div>"
      ],
      "text/plain": [
       "   Unnamed: 0        asin helpful  overall  \\\n",
       "0           0  B000F83SZQ  [0, 0]        5   \n",
       "1           1  B000F83SZQ  [2, 2]        4   \n",
       "2           2  B000F83SZQ  [2, 2]        4   \n",
       "3           3  B000F83SZQ  [1, 1]        5   \n",
       "4           4  B000F83SZQ  [0, 1]        4   \n",
       "\n",
       "                                          reviewText   reviewTime  \\\n",
       "0  I enjoy vintage books and movies so I enjoyed ...   05 5, 2014   \n",
       "1  This book is a reissue of an old one; the auth...   01 6, 2014   \n",
       "2  This was a fairly interesting read.  It had ol...   04 4, 2014   \n",
       "3  I'd never read any of the Amy Brewster mysteri...  02 19, 2014   \n",
       "4  If you like period pieces - clothing, lingo, y...  03 19, 2014   \n",
       "\n",
       "       reviewerID                         reviewerName             summary  \\\n",
       "0  A1F6404F1VG29J                           Avidreader  Nice vintage story   \n",
       "1   AN0N05A9LIJEQ                             critters        Different...   \n",
       "2   A795DMNCJILA6                                  dot               Oldie   \n",
       "3  A1FV0SX13TWVXQ  Elaine H. Turley \"Montana Songbird\"  I really liked it.   \n",
       "4  A3SPTOKDG7WBLN                   Father Dowling Fan      Period Mystery   \n",
       "\n",
       "   unixReviewTime  \n",
       "0      1399248000  \n",
       "1      1388966400  \n",
       "2      1396569600  \n",
       "3      1392768000  \n",
       "4      1395187200  "
      ]
     },
     "execution_count": 4,
     "metadata": {},
     "output_type": "execute_result"
    }
   ],
   "source": [
    "df = pd.read_csv('/Users/Link/Documents/5005数据可视化/Group project/archive/kindle_reviews.csv')\n",
    "df.head()"
   ]
  },
  {
   "cell_type": "markdown",
   "id": "4bab0fd7",
   "metadata": {
    "ExecuteTime": {
     "end_time": "2023-04-10T11:20:17.670296Z",
     "start_time": "2023-04-10T11:20:17.657244Z"
    }
   },
   "source": [
    "**Columns:**  \n",
    "asin - 书籍id  \n",
    "helpful - 有帮助的概率    \n",
    "overall - 书籍评分  \n",
    "reviewText - 评论文本  \n",
    "reviewTime - 评论时间   \n",
    "reviewerID - 评论者id   \n",
    "reviewerName - 评论者名称  \n",
    "summary - 评论综述  \n",
    "unixReviewTime - 时间戳"
   ]
  },
  {
   "cell_type": "code",
   "execution_count": 5,
   "id": "21c24e3e",
   "metadata": {
    "ExecuteTime": {
     "end_time": "2023-04-11T07:49:15.046153Z",
     "start_time": "2023-04-11T07:49:14.922687Z"
    }
   },
   "outputs": [
    {
     "data": {
      "text/html": [
       "<div>\n",
       "<style scoped>\n",
       "    .dataframe tbody tr th:only-of-type {\n",
       "        vertical-align: middle;\n",
       "    }\n",
       "\n",
       "    .dataframe tbody tr th {\n",
       "        vertical-align: top;\n",
       "    }\n",
       "\n",
       "    .dataframe thead th {\n",
       "        text-align: right;\n",
       "    }\n",
       "</style>\n",
       "<table border=\"1\" class=\"dataframe\">\n",
       "  <thead>\n",
       "    <tr style=\"text-align: right;\">\n",
       "      <th></th>\n",
       "      <th>Unnamed: 0</th>\n",
       "      <th>asin</th>\n",
       "      <th>helpful</th>\n",
       "      <th>overall</th>\n",
       "      <th>reviewText</th>\n",
       "      <th>reviewTime</th>\n",
       "      <th>reviewerID</th>\n",
       "      <th>reviewerName</th>\n",
       "      <th>summary</th>\n",
       "      <th>unixReviewTime</th>\n",
       "      <th>sentiment</th>\n",
       "    </tr>\n",
       "  </thead>\n",
       "  <tbody>\n",
       "    <tr>\n",
       "      <th>0</th>\n",
       "      <td>0</td>\n",
       "      <td>B000F83SZQ</td>\n",
       "      <td>[0, 0]</td>\n",
       "      <td>5</td>\n",
       "      <td>I enjoy vintage books and movies so I enjoyed ...</td>\n",
       "      <td>05 5, 2014</td>\n",
       "      <td>A1F6404F1VG29J</td>\n",
       "      <td>Avidreader</td>\n",
       "      <td>Nice vintage story</td>\n",
       "      <td>1399248000</td>\n",
       "      <td>pos</td>\n",
       "    </tr>\n",
       "    <tr>\n",
       "      <th>1</th>\n",
       "      <td>1</td>\n",
       "      <td>B000F83SZQ</td>\n",
       "      <td>[2, 2]</td>\n",
       "      <td>4</td>\n",
       "      <td>This book is a reissue of an old one; the auth...</td>\n",
       "      <td>01 6, 2014</td>\n",
       "      <td>AN0N05A9LIJEQ</td>\n",
       "      <td>critters</td>\n",
       "      <td>Different...</td>\n",
       "      <td>1388966400</td>\n",
       "      <td>pos</td>\n",
       "    </tr>\n",
       "    <tr>\n",
       "      <th>2</th>\n",
       "      <td>2</td>\n",
       "      <td>B000F83SZQ</td>\n",
       "      <td>[2, 2]</td>\n",
       "      <td>4</td>\n",
       "      <td>This was a fairly interesting read.  It had ol...</td>\n",
       "      <td>04 4, 2014</td>\n",
       "      <td>A795DMNCJILA6</td>\n",
       "      <td>dot</td>\n",
       "      <td>Oldie</td>\n",
       "      <td>1396569600</td>\n",
       "      <td>pos</td>\n",
       "    </tr>\n",
       "    <tr>\n",
       "      <th>3</th>\n",
       "      <td>3</td>\n",
       "      <td>B000F83SZQ</td>\n",
       "      <td>[1, 1]</td>\n",
       "      <td>5</td>\n",
       "      <td>I'd never read any of the Amy Brewster mysteri...</td>\n",
       "      <td>02 19, 2014</td>\n",
       "      <td>A1FV0SX13TWVXQ</td>\n",
       "      <td>Elaine H. Turley \"Montana Songbird\"</td>\n",
       "      <td>I really liked it.</td>\n",
       "      <td>1392768000</td>\n",
       "      <td>pos</td>\n",
       "    </tr>\n",
       "    <tr>\n",
       "      <th>4</th>\n",
       "      <td>4</td>\n",
       "      <td>B000F83SZQ</td>\n",
       "      <td>[0, 1]</td>\n",
       "      <td>4</td>\n",
       "      <td>If you like period pieces - clothing, lingo, y...</td>\n",
       "      <td>03 19, 2014</td>\n",
       "      <td>A3SPTOKDG7WBLN</td>\n",
       "      <td>Father Dowling Fan</td>\n",
       "      <td>Period Mystery</td>\n",
       "      <td>1395187200</td>\n",
       "      <td>pos</td>\n",
       "    </tr>\n",
       "  </tbody>\n",
       "</table>\n",
       "</div>"
      ],
      "text/plain": [
       "   Unnamed: 0        asin helpful  overall  \\\n",
       "0           0  B000F83SZQ  [0, 0]        5   \n",
       "1           1  B000F83SZQ  [2, 2]        4   \n",
       "2           2  B000F83SZQ  [2, 2]        4   \n",
       "3           3  B000F83SZQ  [1, 1]        5   \n",
       "4           4  B000F83SZQ  [0, 1]        4   \n",
       "\n",
       "                                          reviewText   reviewTime  \\\n",
       "0  I enjoy vintage books and movies so I enjoyed ...   05 5, 2014   \n",
       "1  This book is a reissue of an old one; the auth...   01 6, 2014   \n",
       "2  This was a fairly interesting read.  It had ol...   04 4, 2014   \n",
       "3  I'd never read any of the Amy Brewster mysteri...  02 19, 2014   \n",
       "4  If you like period pieces - clothing, lingo, y...  03 19, 2014   \n",
       "\n",
       "       reviewerID                         reviewerName             summary  \\\n",
       "0  A1F6404F1VG29J                           Avidreader  Nice vintage story   \n",
       "1   AN0N05A9LIJEQ                             critters        Different...   \n",
       "2   A795DMNCJILA6                                  dot               Oldie   \n",
       "3  A1FV0SX13TWVXQ  Elaine H. Turley \"Montana Songbird\"  I really liked it.   \n",
       "4  A3SPTOKDG7WBLN                   Father Dowling Fan      Period Mystery   \n",
       "\n",
       "   unixReviewTime sentiment  \n",
       "0      1399248000       pos  \n",
       "1      1388966400       pos  \n",
       "2      1396569600       pos  \n",
       "3      1392768000       pos  \n",
       "4      1395187200       pos  "
      ]
     },
     "execution_count": 5,
     "metadata": {},
     "output_type": "execute_result"
    }
   ],
   "source": [
    "# 定义函数来根据分数评价积极或消极\n",
    "def get_evaluation(score):\n",
    "    if score >= 4:\n",
    "        return 'pos'\n",
    "    else:\n",
    "        return 'neg'\n",
    "\n",
    "# 将函数应用到每一行的分数列中，并将结果存储到评价列中\n",
    "df['sentiment'] = df['overall'].apply(get_evaluation)\n",
    "\n",
    "df.head()"
   ]
  },
  {
   "cell_type": "code",
   "execution_count": 6,
   "id": "7c0367b5",
   "metadata": {
    "ExecuteTime": {
     "end_time": "2023-04-11T07:49:15.864733Z",
     "start_time": "2023-04-11T07:49:15.856516Z"
    }
   },
   "outputs": [],
   "source": [
    "#test = df.loc[df['overall'] == 5]"
   ]
  },
  {
   "cell_type": "code",
   "execution_count": 7,
   "id": "9b30036e",
   "metadata": {
    "ExecuteTime": {
     "end_time": "2023-04-11T07:49:16.739835Z",
     "start_time": "2023-04-11T07:49:16.618375Z"
    }
   },
   "outputs": [],
   "source": [
    "review_text = df[['reviewText','sentiment']]"
   ]
  },
  {
   "cell_type": "code",
   "execution_count": 8,
   "id": "001a4d01",
   "metadata": {
    "ExecuteTime": {
     "end_time": "2023-04-11T07:49:17.421647Z",
     "start_time": "2023-04-11T07:49:17.401886Z"
    }
   },
   "outputs": [
    {
     "data": {
      "text/html": [
       "<div>\n",
       "<style scoped>\n",
       "    .dataframe tbody tr th:only-of-type {\n",
       "        vertical-align: middle;\n",
       "    }\n",
       "\n",
       "    .dataframe tbody tr th {\n",
       "        vertical-align: top;\n",
       "    }\n",
       "\n",
       "    .dataframe thead th {\n",
       "        text-align: right;\n",
       "    }\n",
       "</style>\n",
       "<table border=\"1\" class=\"dataframe\">\n",
       "  <thead>\n",
       "    <tr style=\"text-align: right;\">\n",
       "      <th></th>\n",
       "      <th>reviewText</th>\n",
       "      <th>sentiment</th>\n",
       "    </tr>\n",
       "  </thead>\n",
       "  <tbody>\n",
       "    <tr>\n",
       "      <th>0</th>\n",
       "      <td>I enjoy vintage books and movies so I enjoyed ...</td>\n",
       "      <td>pos</td>\n",
       "    </tr>\n",
       "    <tr>\n",
       "      <th>1</th>\n",
       "      <td>This book is a reissue of an old one; the auth...</td>\n",
       "      <td>pos</td>\n",
       "    </tr>\n",
       "    <tr>\n",
       "      <th>2</th>\n",
       "      <td>This was a fairly interesting read.  It had ol...</td>\n",
       "      <td>pos</td>\n",
       "    </tr>\n",
       "    <tr>\n",
       "      <th>3</th>\n",
       "      <td>I'd never read any of the Amy Brewster mysteri...</td>\n",
       "      <td>pos</td>\n",
       "    </tr>\n",
       "    <tr>\n",
       "      <th>4</th>\n",
       "      <td>If you like period pieces - clothing, lingo, y...</td>\n",
       "      <td>pos</td>\n",
       "    </tr>\n",
       "    <tr>\n",
       "      <th>...</th>\n",
       "      <td>...</td>\n",
       "      <td>...</td>\n",
       "    </tr>\n",
       "    <tr>\n",
       "      <th>982614</th>\n",
       "      <td>Yasss hunny! This is a great read. That Dre is...</td>\n",
       "      <td>pos</td>\n",
       "    </tr>\n",
       "    <tr>\n",
       "      <th>982615</th>\n",
       "      <td>I ENJOYED THIS BOOK FROM BEGINNING TO END NOW ...</td>\n",
       "      <td>pos</td>\n",
       "    </tr>\n",
       "    <tr>\n",
       "      <th>982616</th>\n",
       "      <td>Great book! Cherika was a fool. She let that m...</td>\n",
       "      <td>pos</td>\n",
       "    </tr>\n",
       "    <tr>\n",
       "      <th>982617</th>\n",
       "      <td>When I say this was an excellent book please b...</td>\n",
       "      <td>pos</td>\n",
       "    </tr>\n",
       "    <tr>\n",
       "      <th>982618</th>\n",
       "      <td>This book was everything. I just hope Alexus w...</td>\n",
       "      <td>pos</td>\n",
       "    </tr>\n",
       "  </tbody>\n",
       "</table>\n",
       "<p>982619 rows × 2 columns</p>\n",
       "</div>"
      ],
      "text/plain": [
       "                                               reviewText sentiment\n",
       "0       I enjoy vintage books and movies so I enjoyed ...       pos\n",
       "1       This book is a reissue of an old one; the auth...       pos\n",
       "2       This was a fairly interesting read.  It had ol...       pos\n",
       "3       I'd never read any of the Amy Brewster mysteri...       pos\n",
       "4       If you like period pieces - clothing, lingo, y...       pos\n",
       "...                                                   ...       ...\n",
       "982614  Yasss hunny! This is a great read. That Dre is...       pos\n",
       "982615  I ENJOYED THIS BOOK FROM BEGINNING TO END NOW ...       pos\n",
       "982616  Great book! Cherika was a fool. She let that m...       pos\n",
       "982617  When I say this was an excellent book please b...       pos\n",
       "982618  This book was everything. I just hope Alexus w...       pos\n",
       "\n",
       "[982619 rows x 2 columns]"
      ]
     },
     "execution_count": 8,
     "metadata": {},
     "output_type": "execute_result"
    }
   ],
   "source": [
    "review_text"
   ]
  },
  {
   "cell_type": "code",
   "execution_count": 9,
   "id": "7a13b434",
   "metadata": {
    "ExecuteTime": {
     "end_time": "2023-04-11T07:49:25.899721Z",
     "start_time": "2023-04-11T07:49:18.234833Z"
    }
   },
   "outputs": [
    {
     "name": "stdout",
     "output_type": "stream",
     "text": [
      "Requirement already satisfied: spacy in /Users/Link/opt/anaconda3/envs/NLP/lib/python3.9/site-packages (3.5.1)\n",
      "Requirement already satisfied: typer<0.8.0,>=0.3.0 in /Users/Link/opt/anaconda3/envs/NLP/lib/python3.9/site-packages (from spacy) (0.7.0)\n",
      "Requirement already satisfied: jinja2 in /Users/Link/opt/anaconda3/envs/NLP/lib/python3.9/site-packages (from spacy) (3.1.2)\n",
      "Requirement already satisfied: setuptools in /Users/Link/opt/anaconda3/envs/NLP/lib/python3.9/site-packages (from spacy) (65.6.3)\n",
      "Requirement already satisfied: pathy>=0.10.0 in /Users/Link/opt/anaconda3/envs/NLP/lib/python3.9/site-packages (from spacy) (0.10.1)\n",
      "Requirement already satisfied: cymem<2.1.0,>=2.0.2 in /Users/Link/opt/anaconda3/envs/NLP/lib/python3.9/site-packages (from spacy) (2.0.7)\n",
      "Requirement already satisfied: srsly<3.0.0,>=2.4.3 in /Users/Link/opt/anaconda3/envs/NLP/lib/python3.9/site-packages (from spacy) (2.4.6)\n",
      "Requirement already satisfied: pydantic!=1.8,!=1.8.1,<1.11.0,>=1.7.4 in /Users/Link/opt/anaconda3/envs/NLP/lib/python3.9/site-packages (from spacy) (1.10.7)\n",
      "Requirement already satisfied: catalogue<2.1.0,>=2.0.6 in /Users/Link/opt/anaconda3/envs/NLP/lib/python3.9/site-packages (from spacy) (2.0.8)\n",
      "Requirement already satisfied: numpy>=1.15.0 in /Users/Link/opt/anaconda3/envs/NLP/lib/python3.9/site-packages (from spacy) (1.23.5)\n",
      "Requirement already satisfied: langcodes<4.0.0,>=3.2.0 in /Users/Link/opt/anaconda3/envs/NLP/lib/python3.9/site-packages (from spacy) (3.3.0)\n",
      "Requirement already satisfied: spacy-loggers<2.0.0,>=1.0.0 in /Users/Link/opt/anaconda3/envs/NLP/lib/python3.9/site-packages (from spacy) (1.0.4)\n",
      "Requirement already satisfied: packaging>=20.0 in /Users/Link/opt/anaconda3/envs/NLP/lib/python3.9/site-packages (from spacy) (22.0)\n",
      "Requirement already satisfied: murmurhash<1.1.0,>=0.28.0 in /Users/Link/opt/anaconda3/envs/NLP/lib/python3.9/site-packages (from spacy) (1.0.9)\n",
      "Requirement already satisfied: thinc<8.2.0,>=8.1.8 in /Users/Link/opt/anaconda3/envs/NLP/lib/python3.9/site-packages (from spacy) (8.1.9)\n",
      "Requirement already satisfied: wasabi<1.2.0,>=0.9.1 in /Users/Link/opt/anaconda3/envs/NLP/lib/python3.9/site-packages (from spacy) (1.1.1)\n",
      "Requirement already satisfied: spacy-legacy<3.1.0,>=3.0.11 in /Users/Link/opt/anaconda3/envs/NLP/lib/python3.9/site-packages (from spacy) (3.0.12)\n",
      "Requirement already satisfied: preshed<3.1.0,>=3.0.2 in /Users/Link/opt/anaconda3/envs/NLP/lib/python3.9/site-packages (from spacy) (3.0.8)\n",
      "Requirement already satisfied: requests<3.0.0,>=2.13.0 in /Users/Link/opt/anaconda3/envs/NLP/lib/python3.9/site-packages (from spacy) (2.28.1)\n",
      "Requirement already satisfied: smart-open<7.0.0,>=5.2.1 in /Users/Link/opt/anaconda3/envs/NLP/lib/python3.9/site-packages (from spacy) (6.3.0)\n",
      "Requirement already satisfied: tqdm<5.0.0,>=4.38.0 in /Users/Link/opt/anaconda3/envs/NLP/lib/python3.9/site-packages (from spacy) (4.64.1)\n",
      "Requirement already satisfied: typing-extensions>=4.2.0 in /Users/Link/opt/anaconda3/envs/NLP/lib/python3.9/site-packages (from pydantic!=1.8,!=1.8.1,<1.11.0,>=1.7.4->spacy) (4.4.0)\n",
      "Requirement already satisfied: idna<4,>=2.5 in /Users/Link/opt/anaconda3/envs/NLP/lib/python3.9/site-packages (from requests<3.0.0,>=2.13.0->spacy) (3.4)\n",
      "Requirement already satisfied: charset-normalizer<3,>=2 in /Users/Link/opt/anaconda3/envs/NLP/lib/python3.9/site-packages (from requests<3.0.0,>=2.13.0->spacy) (2.0.4)\n",
      "Requirement already satisfied: urllib3<1.27,>=1.21.1 in /Users/Link/opt/anaconda3/envs/NLP/lib/python3.9/site-packages (from requests<3.0.0,>=2.13.0->spacy) (1.26.14)\n",
      "Requirement already satisfied: certifi>=2017.4.17 in /Users/Link/opt/anaconda3/envs/NLP/lib/python3.9/site-packages (from requests<3.0.0,>=2.13.0->spacy) (2022.12.7)\n",
      "Requirement already satisfied: blis<0.8.0,>=0.7.8 in /Users/Link/opt/anaconda3/envs/NLP/lib/python3.9/site-packages (from thinc<8.2.0,>=8.1.8->spacy) (0.7.9)\n",
      "Requirement already satisfied: confection<1.0.0,>=0.0.1 in /Users/Link/opt/anaconda3/envs/NLP/lib/python3.9/site-packages (from thinc<8.2.0,>=8.1.8->spacy) (0.0.4)\n",
      "Requirement already satisfied: click<9.0.0,>=7.1.1 in /Users/Link/opt/anaconda3/envs/NLP/lib/python3.9/site-packages (from typer<0.8.0,>=0.3.0->spacy) (8.0.4)\n",
      "Requirement already satisfied: MarkupSafe>=2.0 in /Users/Link/opt/anaconda3/envs/NLP/lib/python3.9/site-packages (from jinja2->spacy) (2.1.1)\n",
      "2023-04-11 15:49:20.119075: I tensorflow/core/platform/cpu_feature_guard.cc:193] This TensorFlow binary is optimized with oneAPI Deep Neural Network Library (oneDNN) to use the following CPU instructions in performance-critical operations:  SSE4.1 SSE4.2\n",
      "To enable them in other operations, rebuild TensorFlow with the appropriate compiler flags.\n",
      "Collecting en-core-web-sm==3.5.0\n",
      "  Downloading https://github.com/explosion/spacy-models/releases/download/en_core_web_sm-3.5.0/en_core_web_sm-3.5.0-py3-none-any.whl (12.8 MB)\n",
      "\u001b[2K     \u001b[90m━━━━━━━━━━━━━━━━━━━━━━━━━━━━━━━━━━━━━━━━\u001b[0m \u001b[32m12.8/12.8 MB\u001b[0m \u001b[31m20.3 MB/s\u001b[0m eta \u001b[36m0:00:00\u001b[0m00:01\u001b[0m00:01\u001b[0m\n",
      "\u001b[?25hRequirement already satisfied: spacy<3.6.0,>=3.5.0 in /Users/Link/opt/anaconda3/envs/NLP/lib/python3.9/site-packages (from en-core-web-sm==3.5.0) (3.5.1)\n",
      "Requirement already satisfied: catalogue<2.1.0,>=2.0.6 in /Users/Link/opt/anaconda3/envs/NLP/lib/python3.9/site-packages (from spacy<3.6.0,>=3.5.0->en-core-web-sm==3.5.0) (2.0.8)\n",
      "Requirement already satisfied: requests<3.0.0,>=2.13.0 in /Users/Link/opt/anaconda3/envs/NLP/lib/python3.9/site-packages (from spacy<3.6.0,>=3.5.0->en-core-web-sm==3.5.0) (2.28.1)\n",
      "Requirement already satisfied: numpy>=1.15.0 in /Users/Link/opt/anaconda3/envs/NLP/lib/python3.9/site-packages (from spacy<3.6.0,>=3.5.0->en-core-web-sm==3.5.0) (1.23.5)\n",
      "Requirement already satisfied: jinja2 in /Users/Link/opt/anaconda3/envs/NLP/lib/python3.9/site-packages (from spacy<3.6.0,>=3.5.0->en-core-web-sm==3.5.0) (3.1.2)\n",
      "Requirement already satisfied: typer<0.8.0,>=0.3.0 in /Users/Link/opt/anaconda3/envs/NLP/lib/python3.9/site-packages (from spacy<3.6.0,>=3.5.0->en-core-web-sm==3.5.0) (0.7.0)\n",
      "Requirement already satisfied: spacy-loggers<2.0.0,>=1.0.0 in /Users/Link/opt/anaconda3/envs/NLP/lib/python3.9/site-packages (from spacy<3.6.0,>=3.5.0->en-core-web-sm==3.5.0) (1.0.4)\n",
      "Requirement already satisfied: pathy>=0.10.0 in /Users/Link/opt/anaconda3/envs/NLP/lib/python3.9/site-packages (from spacy<3.6.0,>=3.5.0->en-core-web-sm==3.5.0) (0.10.1)\n",
      "Requirement already satisfied: packaging>=20.0 in /Users/Link/opt/anaconda3/envs/NLP/lib/python3.9/site-packages (from spacy<3.6.0,>=3.5.0->en-core-web-sm==3.5.0) (22.0)\n",
      "Requirement already satisfied: smart-open<7.0.0,>=5.2.1 in /Users/Link/opt/anaconda3/envs/NLP/lib/python3.9/site-packages (from spacy<3.6.0,>=3.5.0->en-core-web-sm==3.5.0) (6.3.0)\n",
      "Requirement already satisfied: langcodes<4.0.0,>=3.2.0 in /Users/Link/opt/anaconda3/envs/NLP/lib/python3.9/site-packages (from spacy<3.6.0,>=3.5.0->en-core-web-sm==3.5.0) (3.3.0)\n",
      "Requirement already satisfied: thinc<8.2.0,>=8.1.8 in /Users/Link/opt/anaconda3/envs/NLP/lib/python3.9/site-packages (from spacy<3.6.0,>=3.5.0->en-core-web-sm==3.5.0) (8.1.9)\n",
      "Requirement already satisfied: wasabi<1.2.0,>=0.9.1 in /Users/Link/opt/anaconda3/envs/NLP/lib/python3.9/site-packages (from spacy<3.6.0,>=3.5.0->en-core-web-sm==3.5.0) (1.1.1)\n",
      "Requirement already satisfied: spacy-legacy<3.1.0,>=3.0.11 in /Users/Link/opt/anaconda3/envs/NLP/lib/python3.9/site-packages (from spacy<3.6.0,>=3.5.0->en-core-web-sm==3.5.0) (3.0.12)\n",
      "Requirement already satisfied: setuptools in /Users/Link/opt/anaconda3/envs/NLP/lib/python3.9/site-packages (from spacy<3.6.0,>=3.5.0->en-core-web-sm==3.5.0) (65.6.3)\n",
      "Requirement already satisfied: tqdm<5.0.0,>=4.38.0 in /Users/Link/opt/anaconda3/envs/NLP/lib/python3.9/site-packages (from spacy<3.6.0,>=3.5.0->en-core-web-sm==3.5.0) (4.64.1)\n",
      "Requirement already satisfied: murmurhash<1.1.0,>=0.28.0 in /Users/Link/opt/anaconda3/envs/NLP/lib/python3.9/site-packages (from spacy<3.6.0,>=3.5.0->en-core-web-sm==3.5.0) (1.0.9)\n",
      "Requirement already satisfied: cymem<2.1.0,>=2.0.2 in /Users/Link/opt/anaconda3/envs/NLP/lib/python3.9/site-packages (from spacy<3.6.0,>=3.5.0->en-core-web-sm==3.5.0) (2.0.7)\n",
      "Requirement already satisfied: preshed<3.1.0,>=3.0.2 in /Users/Link/opt/anaconda3/envs/NLP/lib/python3.9/site-packages (from spacy<3.6.0,>=3.5.0->en-core-web-sm==3.5.0) (3.0.8)\n",
      "Requirement already satisfied: pydantic!=1.8,!=1.8.1,<1.11.0,>=1.7.4 in /Users/Link/opt/anaconda3/envs/NLP/lib/python3.9/site-packages (from spacy<3.6.0,>=3.5.0->en-core-web-sm==3.5.0) (1.10.7)\n",
      "Requirement already satisfied: srsly<3.0.0,>=2.4.3 in /Users/Link/opt/anaconda3/envs/NLP/lib/python3.9/site-packages (from spacy<3.6.0,>=3.5.0->en-core-web-sm==3.5.0) (2.4.6)\n",
      "Requirement already satisfied: typing-extensions>=4.2.0 in /Users/Link/opt/anaconda3/envs/NLP/lib/python3.9/site-packages (from pydantic!=1.8,!=1.8.1,<1.11.0,>=1.7.4->spacy<3.6.0,>=3.5.0->en-core-web-sm==3.5.0) (4.4.0)\n",
      "Requirement already satisfied: certifi>=2017.4.17 in /Users/Link/opt/anaconda3/envs/NLP/lib/python3.9/site-packages (from requests<3.0.0,>=2.13.0->spacy<3.6.0,>=3.5.0->en-core-web-sm==3.5.0) (2022.12.7)\n",
      "Requirement already satisfied: idna<4,>=2.5 in /Users/Link/opt/anaconda3/envs/NLP/lib/python3.9/site-packages (from requests<3.0.0,>=2.13.0->spacy<3.6.0,>=3.5.0->en-core-web-sm==3.5.0) (3.4)\n",
      "Requirement already satisfied: urllib3<1.27,>=1.21.1 in /Users/Link/opt/anaconda3/envs/NLP/lib/python3.9/site-packages (from requests<3.0.0,>=2.13.0->spacy<3.6.0,>=3.5.0->en-core-web-sm==3.5.0) (1.26.14)\n",
      "Requirement already satisfied: charset-normalizer<3,>=2 in /Users/Link/opt/anaconda3/envs/NLP/lib/python3.9/site-packages (from requests<3.0.0,>=2.13.0->spacy<3.6.0,>=3.5.0->en-core-web-sm==3.5.0) (2.0.4)\n"
     ]
    },
    {
     "name": "stdout",
     "output_type": "stream",
     "text": [
      "Requirement already satisfied: blis<0.8.0,>=0.7.8 in /Users/Link/opt/anaconda3/envs/NLP/lib/python3.9/site-packages (from thinc<8.2.0,>=8.1.8->spacy<3.6.0,>=3.5.0->en-core-web-sm==3.5.0) (0.7.9)\n",
      "Requirement already satisfied: confection<1.0.0,>=0.0.1 in /Users/Link/opt/anaconda3/envs/NLP/lib/python3.9/site-packages (from thinc<8.2.0,>=8.1.8->spacy<3.6.0,>=3.5.0->en-core-web-sm==3.5.0) (0.0.4)\n",
      "Requirement already satisfied: click<9.0.0,>=7.1.1 in /Users/Link/opt/anaconda3/envs/NLP/lib/python3.9/site-packages (from typer<0.8.0,>=0.3.0->spacy<3.6.0,>=3.5.0->en-core-web-sm==3.5.0) (8.0.4)\n",
      "Requirement already satisfied: MarkupSafe>=2.0 in /Users/Link/opt/anaconda3/envs/NLP/lib/python3.9/site-packages (from jinja2->spacy<3.6.0,>=3.5.0->en-core-web-sm==3.5.0) (2.1.1)\n",
      "\u001b[38;5;2m✔ Download and installation successful\u001b[0m\n",
      "You can now load the package via spacy.load('en_core_web_sm')\n"
     ]
    }
   ],
   "source": [
    "!pip install -U spacy\n",
    "!python -m spacy download en_core_web_sm"
   ]
  },
  {
   "cell_type": "code",
   "execution_count": 10,
   "id": "20e7d5f3",
   "metadata": {
    "ExecuteTime": {
     "end_time": "2023-04-11T07:49:27.020407Z",
     "start_time": "2023-04-11T07:49:26.635587Z"
    }
   },
   "outputs": [],
   "source": [
    "review_text_copy = review_text.copy()\n",
    "review_text_copy['reviewText'] = review_text_copy['reviewText'].astype(str)"
   ]
  },
  {
   "cell_type": "code",
   "execution_count": 24,
   "id": "4c4ccbc0",
   "metadata": {
    "ExecuteTime": {
     "end_time": "2023-04-11T08:19:44.107186Z",
     "start_time": "2023-04-11T08:19:44.094205Z"
    }
   },
   "outputs": [],
   "source": [
    "review_text_5000 = review_text_copy.iloc[:5000,:]"
   ]
  },
  {
   "cell_type": "markdown",
   "id": "707885e0",
   "metadata": {},
   "source": [
    "常见的预处理操作：\n",
    "分词（tokenization）：将文本分成单独的单词或标记（token）。  \n",
    "去除停用词（stop words removal）：去除一些常见但无意义的词语（如 \"the\"、\"a\"、\"an\" 等）。  \n",
    "词干化（stemming）和词形还原（lemmatization）：将单词的不同形式（如复数形式、时态等）归一化为一个基本形式。  \n",
    "去除标点符号（punctuation removal）：去除文本中的标点符号，这些符号通常不会提供太多的信息。  \n",
    "去除 HTML 标签（HTML tag removal）：如果你的文本包含 HTML 标记，则需要去除它们，以便更好地处理文本。  \n",
    "去除特殊字符（special character removal）：如果你的文本包含一些特殊字符（如 URL、邮件地址等），可以考虑去除它们。  "
   ]
  },
  {
   "cell_type": "code",
   "execution_count": 25,
   "id": "fb7a428a",
   "metadata": {
    "ExecuteTime": {
     "end_time": "2023-04-11T08:19:50.497845Z",
     "start_time": "2023-04-11T08:19:45.373503Z"
    }
   },
   "outputs": [
    {
     "name": "stderr",
     "output_type": "stream",
     "text": [
      "[nltk_data] Downloading package stopwords to /Users/Link/nltk_data...\n",
      "[nltk_data]   Package stopwords is already up-to-date!\n",
      "[nltk_data] Downloading package punkt to /Users/Link/nltk_data...\n",
      "[nltk_data]   Package punkt is already up-to-date!\n"
     ]
    },
    {
     "name": "stdout",
     "output_type": "stream",
     "text": [
      "0       enjoy vintag book movi enjoy read book . plot ...\n",
      "1       book reissu old one ; author born 1910. 's era...\n",
      "2       fair interest read . old- style terminology.i ...\n",
      "3       'd never read ami brewster mysteri one .. real...\n",
      "4       like period piec - cloth , lingo , enjoy myste...\n",
      "                              ...                        \n",
      "4995    good stuff : terrif story.th write skill seen ...\n",
      "4996    short enough read chili cook . keep interest b...\n",
      "4997    end , expect , done . n't expect much .99cent ...\n",
      "4998    say , mix feel short . although initiali start...\n",
      "4999    bought novel time ago 's sit kindl gather edus...\n",
      "Name: processed_text, Length: 5000, dtype: object\n"
     ]
    },
    {
     "name": "stderr",
     "output_type": "stream",
     "text": [
      "/var/folders/qm/jh9yg7h129q058z58zlc62v80000gn/T/ipykernel_45897/1023774446.py:29: SettingWithCopyWarning: \n",
      "A value is trying to be set on a copy of a slice from a DataFrame.\n",
      "Try using .loc[row_indexer,col_indexer] = value instead\n",
      "\n",
      "See the caveats in the documentation: https://pandas.pydata.org/pandas-docs/stable/user_guide/indexing.html#returning-a-view-versus-a-copy\n",
      "  review_text_5000['processed_text'] = review_text_5000['reviewText'].apply(preprocess)\n"
     ]
    }
   ],
   "source": [
    "# 下载停用词列表和词干化器\n",
    "nltk.download('stopwords')\n",
    "nltk.download('punkt')\n",
    "\n",
    "# 创建停用词列表\n",
    "stop_words = stopwords.words('english')\n",
    "\n",
    "# 创建词干化器\n",
    "stemmer = SnowballStemmer('english')\n",
    "\n",
    "# 定义预处理函数\n",
    "def preprocess(text):\n",
    "    \n",
    "    # 将文本转换为小写\n",
    "    text = text.lower()\n",
    "\n",
    "    # 分词\n",
    "    words = nltk.word_tokenize(text)\n",
    "\n",
    "    # 去除停用词\n",
    "    words = [word for word in words if word not in stop_words]\n",
    "\n",
    "    # 词干化\n",
    "    words = [stemmer.stem(word) for word in words]\n",
    "\n",
    "    # 返回预处理后的文本\n",
    "    return ' '.join(words)\n",
    "\n",
    "# 对每行进行预处理\n",
    "review_text_5000['processed_text'] = review_text_5000['reviewText'].apply(preprocess)\n",
    "\n",
    "# 打印预处理后的结果\n",
    "print(review_text_5000['processed_text'])\n"
   ]
  },
  {
   "cell_type": "code",
   "execution_count": 26,
   "id": "6b6811d4",
   "metadata": {
    "ExecuteTime": {
     "end_time": "2023-04-11T08:19:50.507863Z",
     "start_time": "2023-04-11T08:19:50.499801Z"
    }
   },
   "outputs": [
    {
     "data": {
      "text/html": [
       "<div>\n",
       "<style scoped>\n",
       "    .dataframe tbody tr th:only-of-type {\n",
       "        vertical-align: middle;\n",
       "    }\n",
       "\n",
       "    .dataframe tbody tr th {\n",
       "        vertical-align: top;\n",
       "    }\n",
       "\n",
       "    .dataframe thead th {\n",
       "        text-align: right;\n",
       "    }\n",
       "</style>\n",
       "<table border=\"1\" class=\"dataframe\">\n",
       "  <thead>\n",
       "    <tr style=\"text-align: right;\">\n",
       "      <th></th>\n",
       "      <th>reviewText</th>\n",
       "      <th>sentiment</th>\n",
       "      <th>processed_text</th>\n",
       "    </tr>\n",
       "  </thead>\n",
       "  <tbody>\n",
       "    <tr>\n",
       "      <th>0</th>\n",
       "      <td>I enjoy vintage books and movies so I enjoyed ...</td>\n",
       "      <td>pos</td>\n",
       "      <td>enjoy vintag book movi enjoy read book . plot ...</td>\n",
       "    </tr>\n",
       "    <tr>\n",
       "      <th>1</th>\n",
       "      <td>This book is a reissue of an old one; the auth...</td>\n",
       "      <td>pos</td>\n",
       "      <td>book reissu old one ; author born 1910. 's era...</td>\n",
       "    </tr>\n",
       "    <tr>\n",
       "      <th>2</th>\n",
       "      <td>This was a fairly interesting read.  It had ol...</td>\n",
       "      <td>pos</td>\n",
       "      <td>fair interest read . old- style terminology.i ...</td>\n",
       "    </tr>\n",
       "    <tr>\n",
       "      <th>3</th>\n",
       "      <td>I'd never read any of the Amy Brewster mysteri...</td>\n",
       "      <td>pos</td>\n",
       "      <td>'d never read ami brewster mysteri one .. real...</td>\n",
       "    </tr>\n",
       "    <tr>\n",
       "      <th>4</th>\n",
       "      <td>If you like period pieces - clothing, lingo, y...</td>\n",
       "      <td>pos</td>\n",
       "      <td>like period piec - cloth , lingo , enjoy myste...</td>\n",
       "    </tr>\n",
       "    <tr>\n",
       "      <th>...</th>\n",
       "      <td>...</td>\n",
       "      <td>...</td>\n",
       "      <td>...</td>\n",
       "    </tr>\n",
       "    <tr>\n",
       "      <th>4995</th>\n",
       "      <td>The Good Stuff:This was a terrific story.The w...</td>\n",
       "      <td>pos</td>\n",
       "      <td>good stuff : terrif story.th write skill seen ...</td>\n",
       "    </tr>\n",
       "    <tr>\n",
       "      <th>4996</th>\n",
       "      <td>Short enough to read while your chili is cooki...</td>\n",
       "      <td>pos</td>\n",
       "      <td>short enough read chili cook . keep interest b...</td>\n",
       "    </tr>\n",
       "    <tr>\n",
       "      <th>4997</th>\n",
       "      <td>The ending, while not expected, has been done ...</td>\n",
       "      <td>neg</td>\n",
       "      <td>end , expect , done . n't expect much .99cent ...</td>\n",
       "    </tr>\n",
       "    <tr>\n",
       "      <th>4998</th>\n",
       "      <td>I have to say, I have mixed feelings about thi...</td>\n",
       "      <td>neg</td>\n",
       "      <td>say , mix feel short . although initiali start...</td>\n",
       "    </tr>\n",
       "    <tr>\n",
       "      <th>4999</th>\n",
       "      <td>I bought this novel some time ago and it's bee...</td>\n",
       "      <td>pos</td>\n",
       "      <td>bought novel time ago 's sit kindl gather edus...</td>\n",
       "    </tr>\n",
       "  </tbody>\n",
       "</table>\n",
       "<p>5000 rows × 3 columns</p>\n",
       "</div>"
      ],
      "text/plain": [
       "                                             reviewText sentiment  \\\n",
       "0     I enjoy vintage books and movies so I enjoyed ...       pos   \n",
       "1     This book is a reissue of an old one; the auth...       pos   \n",
       "2     This was a fairly interesting read.  It had ol...       pos   \n",
       "3     I'd never read any of the Amy Brewster mysteri...       pos   \n",
       "4     If you like period pieces - clothing, lingo, y...       pos   \n",
       "...                                                 ...       ...   \n",
       "4995  The Good Stuff:This was a terrific story.The w...       pos   \n",
       "4996  Short enough to read while your chili is cooki...       pos   \n",
       "4997  The ending, while not expected, has been done ...       neg   \n",
       "4998  I have to say, I have mixed feelings about thi...       neg   \n",
       "4999  I bought this novel some time ago and it's bee...       pos   \n",
       "\n",
       "                                         processed_text  \n",
       "0     enjoy vintag book movi enjoy read book . plot ...  \n",
       "1     book reissu old one ; author born 1910. 's era...  \n",
       "2     fair interest read . old- style terminology.i ...  \n",
       "3     'd never read ami brewster mysteri one .. real...  \n",
       "4     like period piec - cloth , lingo , enjoy myste...  \n",
       "...                                                 ...  \n",
       "4995  good stuff : terrif story.th write skill seen ...  \n",
       "4996  short enough read chili cook . keep interest b...  \n",
       "4997  end , expect , done . n't expect much .99cent ...  \n",
       "4998  say , mix feel short . although initiali start...  \n",
       "4999  bought novel time ago 's sit kindl gather edus...  \n",
       "\n",
       "[5000 rows x 3 columns]"
      ]
     },
     "execution_count": 26,
     "metadata": {},
     "output_type": "execute_result"
    }
   ],
   "source": [
    "review_text_5000"
   ]
  },
  {
   "cell_type": "code",
   "execution_count": 27,
   "id": "8e1c4b88",
   "metadata": {
    "ExecuteTime": {
     "end_time": "2023-04-11T08:20:38.880684Z",
     "start_time": "2023-04-11T08:19:50.509655Z"
    }
   },
   "outputs": [],
   "source": [
    "nlp = spacy.load('en_core_web_sm')\n",
    "# 创建语料库\n",
    "corpus = st.CorpusFromPandas(review_text_5000, category_col='sentiment', text_col='processed_text', nlp=nlp).build()\n"
   ]
  },
  {
   "cell_type": "code",
   "execution_count": 40,
   "id": "d9d769f0",
   "metadata": {
    "ExecuteTime": {
     "end_time": "2023-04-11T08:31:26.793174Z",
     "start_time": "2023-04-11T08:31:26.765407Z"
    }
   },
   "outputs": [
    {
     "data": {
      "text/html": [
       "<div>\n",
       "<style scoped>\n",
       "    .dataframe tbody tr th:only-of-type {\n",
       "        vertical-align: middle;\n",
       "    }\n",
       "\n",
       "    .dataframe tbody tr th {\n",
       "        vertical-align: top;\n",
       "    }\n",
       "\n",
       "    .dataframe thead th {\n",
       "        text-align: right;\n",
       "    }\n",
       "</style>\n",
       "<table border=\"1\" class=\"dataframe\">\n",
       "  <thead>\n",
       "    <tr style=\"text-align: right;\">\n",
       "      <th></th>\n",
       "      <th>level_0</th>\n",
       "      <th>index</th>\n",
       "      <th>reviewText</th>\n",
       "      <th>sentiment</th>\n",
       "      <th>processed_text</th>\n",
       "    </tr>\n",
       "  </thead>\n",
       "  <tbody>\n",
       "    <tr>\n",
       "      <th>0</th>\n",
       "      <td>0</td>\n",
       "      <td>0</td>\n",
       "      <td>I enjoy vintage books and movies so I enjoyed ...</td>\n",
       "      <td>pos</td>\n",
       "      <td>enjoy vintag book movi enjoy read book . plot ...</td>\n",
       "    </tr>\n",
       "    <tr>\n",
       "      <th>1</th>\n",
       "      <td>1</td>\n",
       "      <td>1</td>\n",
       "      <td>This book is a reissue of an old one; the auth...</td>\n",
       "      <td>pos</td>\n",
       "      <td>book reissu old one ; author born 1910. 's era...</td>\n",
       "    </tr>\n",
       "    <tr>\n",
       "      <th>2</th>\n",
       "      <td>2</td>\n",
       "      <td>2</td>\n",
       "      <td>This was a fairly interesting read.  It had ol...</td>\n",
       "      <td>pos</td>\n",
       "      <td>fair interest read . old- style terminology.i ...</td>\n",
       "    </tr>\n",
       "    <tr>\n",
       "      <th>3</th>\n",
       "      <td>3</td>\n",
       "      <td>3</td>\n",
       "      <td>I'd never read any of the Amy Brewster mysteri...</td>\n",
       "      <td>pos</td>\n",
       "      <td>'d never read ami brewster mysteri one .. real...</td>\n",
       "    </tr>\n",
       "    <tr>\n",
       "      <th>4</th>\n",
       "      <td>4</td>\n",
       "      <td>4</td>\n",
       "      <td>If you like period pieces - clothing, lingo, y...</td>\n",
       "      <td>pos</td>\n",
       "      <td>like period piec - cloth , lingo , enjoy myste...</td>\n",
       "    </tr>\n",
       "    <tr>\n",
       "      <th>...</th>\n",
       "      <td>...</td>\n",
       "      <td>...</td>\n",
       "      <td>...</td>\n",
       "      <td>...</td>\n",
       "      <td>...</td>\n",
       "    </tr>\n",
       "    <tr>\n",
       "      <th>4995</th>\n",
       "      <td>4995</td>\n",
       "      <td>4995</td>\n",
       "      <td>The Good Stuff:This was a terrific story.The w...</td>\n",
       "      <td>pos</td>\n",
       "      <td>good stuff : terrif story.th write skill seen ...</td>\n",
       "    </tr>\n",
       "    <tr>\n",
       "      <th>4996</th>\n",
       "      <td>4996</td>\n",
       "      <td>4996</td>\n",
       "      <td>Short enough to read while your chili is cooki...</td>\n",
       "      <td>pos</td>\n",
       "      <td>short enough read chili cook . keep interest b...</td>\n",
       "    </tr>\n",
       "    <tr>\n",
       "      <th>4997</th>\n",
       "      <td>4997</td>\n",
       "      <td>4997</td>\n",
       "      <td>The ending, while not expected, has been done ...</td>\n",
       "      <td>neg</td>\n",
       "      <td>end , expect , done . n't expect much .99cent ...</td>\n",
       "    </tr>\n",
       "    <tr>\n",
       "      <th>4998</th>\n",
       "      <td>4998</td>\n",
       "      <td>4998</td>\n",
       "      <td>I have to say, I have mixed feelings about thi...</td>\n",
       "      <td>neg</td>\n",
       "      <td>say , mix feel short . although initiali start...</td>\n",
       "    </tr>\n",
       "    <tr>\n",
       "      <th>4999</th>\n",
       "      <td>4999</td>\n",
       "      <td>4999</td>\n",
       "      <td>I bought this novel some time ago and it's bee...</td>\n",
       "      <td>pos</td>\n",
       "      <td>bought novel time ago 's sit kindl gather edus...</td>\n",
       "    </tr>\n",
       "  </tbody>\n",
       "</table>\n",
       "<p>5000 rows × 5 columns</p>\n",
       "</div>"
      ],
      "text/plain": [
       "      level_0  index                                         reviewText  \\\n",
       "0           0      0  I enjoy vintage books and movies so I enjoyed ...   \n",
       "1           1      1  This book is a reissue of an old one; the auth...   \n",
       "2           2      2  This was a fairly interesting read.  It had ol...   \n",
       "3           3      3  I'd never read any of the Amy Brewster mysteri...   \n",
       "4           4      4  If you like period pieces - clothing, lingo, y...   \n",
       "...       ...    ...                                                ...   \n",
       "4995     4995   4995  The Good Stuff:This was a terrific story.The w...   \n",
       "4996     4996   4996  Short enough to read while your chili is cooki...   \n",
       "4997     4997   4997  The ending, while not expected, has been done ...   \n",
       "4998     4998   4998  I have to say, I have mixed feelings about thi...   \n",
       "4999     4999   4999  I bought this novel some time ago and it's bee...   \n",
       "\n",
       "     sentiment                                     processed_text  \n",
       "0          pos  enjoy vintag book movi enjoy read book . plot ...  \n",
       "1          pos  book reissu old one ; author born 1910. 's era...  \n",
       "2          pos  fair interest read . old- style terminology.i ...  \n",
       "3          pos  'd never read ami brewster mysteri one .. real...  \n",
       "4          pos  like period piec - cloth , lingo , enjoy myste...  \n",
       "...        ...                                                ...  \n",
       "4995       pos  good stuff : terrif story.th write skill seen ...  \n",
       "4996       pos  short enough read chili cook . keep interest b...  \n",
       "4997       neg  end , expect , done . n't expect much .99cent ...  \n",
       "4998       neg  say , mix feel short . although initiali start...  \n",
       "4999       pos  bought novel time ago 's sit kindl gather edus...  \n",
       "\n",
       "[5000 rows x 5 columns]"
      ]
     },
     "execution_count": 40,
     "metadata": {},
     "output_type": "execute_result"
    }
   ],
   "source": [
    "corpus.get_df()"
   ]
  },
  {
   "cell_type": "code",
   "execution_count": 29,
   "id": "6de1cc25",
   "metadata": {
    "ExecuteTime": {
     "end_time": "2023-04-11T08:20:38.935123Z",
     "start_time": "2023-04-11T08:20:38.886919Z"
    },
    "scrolled": false
   },
   "outputs": [],
   "source": [
    "term_freq_df = corpus.get_term_freq_df()\n",
    "term_freq_df['pos_score'] = corpus.get_scaled_f_scores('pos')\n",
    "pos_most = list(term_freq_df.sort_values(by='pos_score',ascending=False).index[:100])"
   ]
  },
  {
   "cell_type": "code",
   "execution_count": 30,
   "id": "ae40d6a9",
   "metadata": {
    "ExecuteTime": {
     "end_time": "2023-04-11T08:20:38.976565Z",
     "start_time": "2023-04-11T08:20:38.936766Z"
    }
   },
   "outputs": [],
   "source": [
    "term_freq_df['neg_score'] = corpus.get_scaled_f_scores('neg')\n",
    "neg_most = list(term_freq_df.sort_values(by='neg_score',ascending=False).index[:100])"
   ]
  },
  {
   "cell_type": "code",
   "execution_count": 31,
   "id": "78ba15c8",
   "metadata": {
    "ExecuteTime": {
     "end_time": "2023-04-11T08:20:38.984628Z",
     "start_time": "2023-04-11T08:20:38.978149Z"
    }
   },
   "outputs": [
    {
     "data": {
      "text/html": [
       "<div>\n",
       "<style scoped>\n",
       "    .dataframe tbody tr th:only-of-type {\n",
       "        vertical-align: middle;\n",
       "    }\n",
       "\n",
       "    .dataframe tbody tr th {\n",
       "        vertical-align: top;\n",
       "    }\n",
       "\n",
       "    .dataframe thead th {\n",
       "        text-align: right;\n",
       "    }\n",
       "</style>\n",
       "<table border=\"1\" class=\"dataframe\">\n",
       "  <thead>\n",
       "    <tr style=\"text-align: right;\">\n",
       "      <th></th>\n",
       "      <th>pos freq</th>\n",
       "      <th>neg freq</th>\n",
       "      <th>pos_score</th>\n",
       "      <th>neg_score</th>\n",
       "    </tr>\n",
       "    <tr>\n",
       "      <th>term</th>\n",
       "      <th></th>\n",
       "      <th></th>\n",
       "      <th></th>\n",
       "      <th></th>\n",
       "    </tr>\n",
       "  </thead>\n",
       "  <tbody>\n",
       "    <tr>\n",
       "      <th>enjoy</th>\n",
       "      <td>1233</td>\n",
       "      <td>250</td>\n",
       "      <td>0.939539</td>\n",
       "      <td>0.060461</td>\n",
       "    </tr>\n",
       "    <tr>\n",
       "      <th>vintag</th>\n",
       "      <td>4</td>\n",
       "      <td>0</td>\n",
       "      <td>0.558011</td>\n",
       "      <td>0.441989</td>\n",
       "    </tr>\n",
       "    <tr>\n",
       "      <th>book</th>\n",
       "      <td>4272</td>\n",
       "      <td>1538</td>\n",
       "      <td>0.158797</td>\n",
       "      <td>0.841203</td>\n",
       "    </tr>\n",
       "    <tr>\n",
       "      <th>movi</th>\n",
       "      <td>94</td>\n",
       "      <td>25</td>\n",
       "      <td>0.916714</td>\n",
       "      <td>0.083286</td>\n",
       "    </tr>\n",
       "    <tr>\n",
       "      <th>read</th>\n",
       "      <td>3698</td>\n",
       "      <td>1037</td>\n",
       "      <td>0.911641</td>\n",
       "      <td>0.088359</td>\n",
       "    </tr>\n",
       "    <tr>\n",
       "      <th>...</th>\n",
       "      <td>...</td>\n",
       "      <td>...</td>\n",
       "      <td>...</td>\n",
       "      <td>...</td>\n",
       "    </tr>\n",
       "    <tr>\n",
       "      <th>statement place</th>\n",
       "      <td>1</td>\n",
       "      <td>0</td>\n",
       "      <td>0.507501</td>\n",
       "      <td>0.492499</td>\n",
       "    </tr>\n",
       "    <tr>\n",
       "      <th>back fun</th>\n",
       "      <td>1</td>\n",
       "      <td>0</td>\n",
       "      <td>0.507501</td>\n",
       "      <td>0.492499</td>\n",
       "    </tr>\n",
       "    <tr>\n",
       "      <th>let author</th>\n",
       "      <td>1</td>\n",
       "      <td>0</td>\n",
       "      <td>0.507501</td>\n",
       "      <td>0.492499</td>\n",
       "    </tr>\n",
       "    <tr>\n",
       "      <th>author entertain</th>\n",
       "      <td>1</td>\n",
       "      <td>0</td>\n",
       "      <td>0.507501</td>\n",
       "      <td>0.492499</td>\n",
       "    </tr>\n",
       "    <tr>\n",
       "      <th>entertain mean</th>\n",
       "      <td>1</td>\n",
       "      <td>0</td>\n",
       "      <td>0.507501</td>\n",
       "      <td>0.492499</td>\n",
       "    </tr>\n",
       "  </tbody>\n",
       "</table>\n",
       "<p>171747 rows × 4 columns</p>\n",
       "</div>"
      ],
      "text/plain": [
       "                  pos freq  neg freq  pos_score  neg_score\n",
       "term                                                      \n",
       "enjoy                 1233       250   0.939539   0.060461\n",
       "vintag                   4         0   0.558011   0.441989\n",
       "book                  4272      1538   0.158797   0.841203\n",
       "movi                    94        25   0.916714   0.083286\n",
       "read                  3698      1037   0.911641   0.088359\n",
       "...                    ...       ...        ...        ...\n",
       "statement place          1         0   0.507501   0.492499\n",
       "back fun                 1         0   0.507501   0.492499\n",
       "let author               1         0   0.507501   0.492499\n",
       "author entertain         1         0   0.507501   0.492499\n",
       "entertain mean           1         0   0.507501   0.492499\n",
       "\n",
       "[171747 rows x 4 columns]"
      ]
     },
     "execution_count": 31,
     "metadata": {},
     "output_type": "execute_result"
    }
   ],
   "source": [
    "term_freq_df"
   ]
  },
  {
   "cell_type": "code",
   "execution_count": 32,
   "id": "ebc194b1",
   "metadata": {
    "ExecuteTime": {
     "end_time": "2023-04-11T08:20:38.988458Z",
     "start_time": "2023-04-11T08:20:38.985903Z"
    }
   },
   "outputs": [
    {
     "name": "stdout",
     "output_type": "stream",
     "text": [
      "Positive words: ['must read', \"n't wait\", 'bella', 'joy', 'high recommend', 'great read', 'morgan', 'joy review', 'love book', 'delight', 'wait read', 'zsadist', 'excel', 'lisa', 'love charact', \"n't put\", 'cat', 'amaz', 'emma', 'vampir', 'puma', 'jackson', 'jon', 'grow', 'enjoy read', 'realli enjoy', 'great book', 'fantast', 'thorough enjoy', 'awesom', 'truli', 'well worth', 'angel', 'thorough', 'ms', 'touch', 'bell', 'fairi tale', 'favorit', 'brenda', 'shane', 'insid', 'fairi', 'one favorit', 'love', 'ms .', 'captiv', 'pride', 'classic', 'blood', 'max', 'rafe', 'perfect', 'daughter', 'map', 'home', 'look forward', 'secret', 'great stori', 'read next', 'paranorm', 'love read', 'laugh', 'cole', 'put book', 'fascin', 'passion', 'happi', 'wolf', 'fun read', 'collect', 'visit', 'luke', 'great', 'bodi', 'known', 'pleasur', 'brought', 'easi', 'sexi', 'ago', 'lover', 'brett', 'men', 'alway', 'rachel', 'start read', 'pack', 'forward', 'wonder', 'wait', 'jule', 'heart', 'soul', '.', 'edg', 'hall', 'throughout', 'adventur', 'julia']\n",
      "Negative words: ['delet', 'quinton', '3 star', '%', 'wast', 'unrealist', 'skim', 'sentenc', 'regina', 'bore', 'premis', 'wast time', 'okay', 'poor', 'much better', 'potenti', 'terribl', 'finish book', 'grammar', 'ok', 'stupid', 'unbeliev', \"n't bad\", 'grammat', 'skip', '60', 'grammat error', 'weak', 'three star', \"n't realli\", 'bare', 'sorri', \"n't finish\", 'suppos', 'bad', 'sampl', 'pay', 'half', 'silli', 'lack', 'predict', '& lt', 'basic', 'caleb', 'star war', 'comment', 'read review', 'make sens', 'victim', 'felt like', 'unfortun', 'read like', 'flat', 'bother', \"n't seem\", 'unless', 'lt', 'flesh', 'kasey', 'error', 'sex scene', 'h', 'stori could', 'improv', 'fine', 'sound', 'pretti much', 'rape', 'rush', 'spoiler', 'annoy', 'paid', 'nt', 'seem like', '*', \"n't bother\", 'money', \"n't even\", '2 star', \"stori n't\", 'ridicul', 'confus', 'toward', 'nors', 'solo', 'spell', 'wsj', 'worst', \"would n't\", 'decent', 'sith', 'paragraph', 'charact develop', 'warn', 'appar', 'impress', 'joke', 'pretti', 'm sure', 'ship']\n"
     ]
    }
   ],
   "source": [
    "print('Positive words:',pos_most)\n",
    "print('Negative words:',neg_most)"
   ]
  },
  {
   "cell_type": "code",
   "execution_count": 33,
   "id": "abe4b69f",
   "metadata": {
    "ExecuteTime": {
     "end_time": "2023-04-11T08:20:39.921410Z",
     "start_time": "2023-04-11T08:20:38.989976Z"
    }
   },
   "outputs": [
    {
     "data": {
      "text/plain": [
       "3321654"
      ]
     },
     "execution_count": 33,
     "metadata": {},
     "output_type": "execute_result"
    }
   ],
   "source": [
    "html = st.produce_scattertext_explorer(corpus, category='pos', category_name='pos', not_category_name='neg',\n",
    "                                      width_in_pixels=1000,metadata=review_text_5000['sentiment'])\n",
    "open(\"scattertext_01.html\",'wb').write(html.encode('utf-8'))\n"
   ]
  },
  {
   "cell_type": "code",
   "execution_count": 41,
   "id": "f7041e58",
   "metadata": {
    "ExecuteTime": {
     "end_time": "2023-04-11T08:31:51.281767Z",
     "start_time": "2023-04-11T08:31:51.260990Z"
    }
   },
   "outputs": [
    {
     "data": {
      "text/html": [
       "\n",
       "        <iframe\n",
       "            width=\"1300\"\n",
       "            height=\"700\"\n",
       "            src=\"/Users/Link/Documents/5005数据可视化/Group project/archive/scattertext_01.html\"\n",
       "            frameborder=\"0\"\n",
       "            allowfullscreen\n",
       "            \n",
       "        ></iframe>\n",
       "        "
      ],
      "text/plain": [
       "<IPython.lib.display.IFrame at 0x7f77687e0d30>"
      ]
     },
     "metadata": {},
     "output_type": "display_data"
    }
   ],
   "source": [
    "from IPython.display import IFrame\n",
    "html_path = '/Users/Link/Documents/5005数据可视化/Group project/archive/scattertext_01.html'\n",
    "iframe = IFrame(src=html_path, width=1300, height=700)\n",
    "display(iframe)"
   ]
  }
 ],
 "metadata": {
  "kernelspec": {
   "display_name": "Python 3 (ipykernel)",
   "language": "python",
   "name": "python3"
  },
  "language_info": {
   "codemirror_mode": {
    "name": "ipython",
    "version": 3
   },
   "file_extension": ".py",
   "mimetype": "text/x-python",
   "name": "python",
   "nbconvert_exporter": "python",
   "pygments_lexer": "ipython3",
   "version": "3.9.16"
  }
 },
 "nbformat": 4,
 "nbformat_minor": 5
}
