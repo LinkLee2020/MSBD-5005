{
 "cells": [
  {
   "cell_type": "code",
   "execution_count": 1,
   "id": "5bb115c8",
   "metadata": {},
   "outputs": [],
   "source": [
    "import numpy as np\n",
    "import pandas as pd\n",
    "import matplotlib.pyplot as plt"
   ]
  },
  {
   "cell_type": "code",
   "execution_count": 2,
   "id": "5257acdb",
   "metadata": {},
   "outputs": [],
   "source": [
    "import nltk\n",
    "from nltk.corpus import stopwords\n",
    "from nltk.tokenize import word_tokenize"
   ]
  },
  {
   "cell_type": "code",
   "execution_count": 3,
   "id": "2102ecfd",
   "metadata": {},
   "outputs": [],
   "source": [
    "df= pd.read_csv('kindle_reviews.csv')"
   ]
  },
  {
   "cell_type": "code",
   "execution_count": 4,
   "id": "891b8a88",
   "metadata": {},
   "outputs": [],
   "source": [
    "df_A = df.head(1000)"
   ]
  },
  {
   "cell_type": "code",
   "execution_count": 5,
   "id": "75a6cef4",
   "metadata": {},
   "outputs": [],
   "source": [
    "#df.head(10)"
   ]
  },
  {
   "cell_type": "code",
   "execution_count": 6,
   "id": "56f6629a",
   "metadata": {},
   "outputs": [],
   "source": [
    "#np.array(df)[0]"
   ]
  },
  {
   "cell_type": "code",
   "execution_count": 7,
   "id": "cc23a553",
   "metadata": {},
   "outputs": [],
   "source": [
    "#A = np.array(df)[0][4]\n",
    "#A"
   ]
  },
  {
   "cell_type": "code",
   "execution_count": 8,
   "id": "9197f3c7",
   "metadata": {},
   "outputs": [],
   "source": [
    "#type(A)"
   ]
  },
  {
   "cell_type": "code",
   "execution_count": 9,
   "id": "bfb873dd",
   "metadata": {},
   "outputs": [],
   "source": [
    "#for i in range(10):\n",
    "#    print(np.array(df)[i][4])\n",
    "    "
   ]
  },
  {
   "cell_type": "code",
   "execution_count": 10,
   "id": "a362f02a",
   "metadata": {},
   "outputs": [
    {
     "data": {
      "text/plain": [
       "\"I enjoy vintage books and movies so I enjoyed reading this book.  The plot was unusual.  Don't think killing someone in self-defense but leaving the scene and the body without notifying the police or hitting someone in the jaw to knock them out would wash today.Still it was a good read for me.\""
      ]
     },
     "execution_count": 10,
     "metadata": {},
     "output_type": "execute_result"
    }
   ],
   "source": [
    "test_1 = np.array(df_A)[0][4]\n",
    "test_1"
   ]
  },
  {
   "cell_type": "code",
   "execution_count": 91,
   "id": "8949bcd8",
   "metadata": {},
   "outputs": [
    {
     "data": {
      "text/plain": [
       "int"
      ]
     },
     "execution_count": 91,
     "metadata": {},
     "output_type": "execute_result"
    }
   ],
   "source": [
    "test_2 = np.array(df_A)[0][3]\n",
    "type(test_2)"
   ]
  },
  {
   "cell_type": "code",
   "execution_count": 54,
   "id": "b161d60b",
   "metadata": {},
   "outputs": [
    {
     "data": {
      "text/plain": [
       "[[0, '['], [1, '0'], [2, ','], [3, ' '], [4, '0'], [5, ']']]"
      ]
     },
     "execution_count": 54,
     "metadata": {},
     "output_type": "execute_result"
    }
   ],
   "source": [
    "list_dad = []\n",
    "for i in range(len(list(test_2))):\n",
    "    list_dad.append([i,list(test_2)[i]])\n",
    "    \n",
    "list_dad\n",
    "    "
   ]
  },
  {
   "cell_type": "code",
   "execution_count": 63,
   "id": "10766c9f",
   "metadata": {},
   "outputs": [
    {
     "data": {
      "text/plain": [
       "[[0, 0]]"
      ]
     },
     "execution_count": 63,
     "metadata": {},
     "output_type": "execute_result"
    }
   ],
   "source": [
    "list_helpful = []\n",
    "list_helpful.append([int(list(test_2)[1]),int(list(test_2)[4])])\n",
    "list_helpful\n",
    "list_h = [int(list(test_2)[1]),int(list(test_2)[4])]\n",
    "list_h\n",
    "int(list(test_2)[1])"
   ]
  },
  {
   "cell_type": "code",
   "execution_count": 11,
   "id": "0034b596",
   "metadata": {},
   "outputs": [],
   "source": [
    "#print(stopwords.words('english'))"
   ]
  },
  {
   "cell_type": "code",
   "execution_count": 12,
   "id": "5dce971f",
   "metadata": {},
   "outputs": [
    {
     "data": {
      "text/plain": [
       "0.631578947368421"
      ]
     },
     "execution_count": 12,
     "metadata": {},
     "output_type": "execute_result"
    }
   ],
   "source": [
    "example_sent = test_1\n",
    "  \n",
    "stop_words = set(stopwords.words('english'))\n",
    "  \n",
    "word_tokens = word_tokenize(example_sent)\n",
    "# converts the words in word_tokens to lower case and then checks whether \n",
    "#they are present in stop_words or not\n",
    "filtered_sentence = [w for w in word_tokens if not w.lower() in stop_words]\n",
    "#with no lower case conversion\n",
    "filtered_sentence = []\n",
    "  \n",
    "for w in word_tokens:\n",
    "    if w not in stop_words:\n",
    "        filtered_sentence.append(w)\n",
    "  \n",
    "before = len(word_tokens)\n",
    "after = len(filtered_sentence)\n",
    "\n",
    "TTR = after/before\n",
    "TTR"
   ]
  },
  {
   "cell_type": "code",
   "execution_count": 13,
   "id": "8e7a9f96",
   "metadata": {},
   "outputs": [],
   "source": [
    "# use english set stopwords to make analysis\n",
    "def type_token_ratio(review_str):\n",
    "    example_sent = review_str\n",
    "    stop_words = set(stopwords.words('english'))\n",
    "    word_tokens = word_tokenize(example_sent)\n",
    "    filtered_sentence = [w for w in word_tokens if not w.lower() in stop_words]\n",
    "    filtered_sentence = []\n",
    "    for w in word_tokens:\n",
    "        if w not in stop_words:\n",
    "            filtered_sentence.append(w)\n",
    "    before = len(word_tokens)\n",
    "    after = len(filtered_sentence)\n",
    "    TTR = after/before\n",
    "    return TTR"
   ]
  },
  {
   "cell_type": "code",
   "execution_count": 14,
   "id": "b276896e",
   "metadata": {},
   "outputs": [
    {
     "data": {
      "text/plain": [
       "0.631578947368421"
      ]
     },
     "execution_count": 14,
     "metadata": {},
     "output_type": "execute_result"
    }
   ],
   "source": [
    "type_token_ratio(test_1)"
   ]
  },
  {
   "cell_type": "code",
   "execution_count": 26,
   "id": "a3dbc4fb",
   "metadata": {},
   "outputs": [],
   "source": [
    "#test_i = np.array(df_A)[i][4]\n",
    "list_A = []\n",
    "for i in range(len(df_A)):\n",
    "    test_i = np.array(df_A)[i][4]\n",
    "    list_A.append(type_token_ratio(test_i))\n",
    "    \n",
    "\n",
    "list_index = []\n",
    "for j in range(len(df_A)):\n",
    "    list_index.append(j)"
   ]
  },
  {
   "cell_type": "code",
   "execution_count": 28,
   "id": "f7f16171",
   "metadata": {},
   "outputs": [
    {
     "data": {
      "text/plain": [
       "0"
      ]
     },
     "execution_count": 28,
     "metadata": {},
     "output_type": "execute_result"
    }
   ],
   "source": [
    "len(list_A) -len(list_index)"
   ]
  },
  {
   "cell_type": "code",
   "execution_count": 31,
   "id": "b76faab2",
   "metadata": {},
   "outputs": [
    {
     "data": {
      "image/png": "[encoded data removed]",
      "text/plain": [
       "<Figure size 640x480 with 1 Axes>"
      ]
     },
     "metadata": {},
     "output_type": "display_data"
    }
   ],
   "source": [
    "l1=plt.scatter(list_index,list_A)"
   ]
  },
  {
   "cell_type": "code",
   "execution_count": 32,
   "id": "2136dfc3",
   "metadata": {},
   "outputs": [],
   "source": [
    "def overall_fun(size,useful):\n",
    "    return"
   ]
  },
  {
   "cell_type": "code",
   "execution_count": 39,
   "id": "6f41f8a7",
   "metadata": {},
   "outputs": [],
   "source": [
    "def choose_data(dataset,bound):\n",
    "    list_pair = []\n",
    "    for i in range(len(dataset)):\n",
    "        text_inf_i = np.array(dataset)[i][4]\n",
    "        if type_token_ratio(text_inf_i) >= bound:\n",
    "            list_pair.append([i,type_token_ratio(text_inf_i),np.array(dataset)[i][4]])\n",
    "    return list_pair"
   ]
  },
  {
   "cell_type": "code",
   "execution_count": 61,
   "id": "90a4789a",
   "metadata": {},
   "outputs": [],
   "source": [
    "#choose_data(df_A,0.8)"
   ]
  },
  {
   "cell_type": "code",
   "execution_count": 92,
   "id": "aee9301f",
   "metadata": {},
   "outputs": [],
   "source": [
    "def choose_data_detail(dataset,bound):\n",
    "    list_pair = []\n",
    "    for i in range(len(dataset)):\n",
    "        #选取句子有效词比值\n",
    "        text_inf_i = np.array(dataset)[i][4]\n",
    "        \n",
    "        \n",
    "        #调取点赞数列表\n",
    "        text_inf_v = np.array(dataset)[i][2]\n",
    "        AA = list(text_inf_v)\n",
    "        #if AA[1] != \"\" and AA[4]!= \"\":\n",
    "            #A = int(AA[1])\n",
    "            #B = int(AA[4])\n",
    "            #list_v = [A,B]\n",
    "        \n",
    "        \n",
    "        #获取总体评分\n",
    "        text_grade = np.array(dataset)[i][3]\n",
    "        \n",
    "        if type_token_ratio(text_inf_i) >= bound:\n",
    "            list_pair.append([i,  type_token_ratio(text_inf_i), text_inf_v,  text_grade ,np.array(dataset)[i][4]])\n",
    "            \n",
    "            \n",
    "    return list_pair"
   ]
  },
  {
   "cell_type": "code",
   "execution_count": 93,
   "id": "bdd9f0a6",
   "metadata": {},
   "outputs": [
    {
     "data": {
      "text/plain": [
       "[[22,\n",
       "  0.8076923076923077,\n",
       "  '[0, 0]',\n",
       "  5,\n",
       "  \"Great book couldn't put it down.  The story expands events in the new Jedi order series.  Good writer in Walter Jon Williams.\"],\n",
       " [62,\n",
       "  0.9130434782608695,\n",
       "  '[0, 0]',\n",
       "  5,\n",
       "  \"L'Among classic.  Great read. Great book . Great on the MY Kendle. . . . . . . . ..\"],\n",
       " [132,\n",
       "  0.8043478260869565,\n",
       "  '[0, 0]',\n",
       "  5,\n",
       "  \"I'm a real fan of romantic suspense, but rarely enjoy the series-length novels. this one was terrific, credible details, great speed and tension, smokin' hot chemistry and reasonable character development. gonna go buy more Stacey books!\"],\n",
       " [146,\n",
       "  0.8157894736842105,\n",
       "  '[0, 1]',\n",
       "  2,\n",
       "  \"I give this 2 stars because I have read worse books. This book is very boring. Very &#34;yadda, yadda&#34; type. I don't recommend it.\"],\n",
       " [148,\n",
       "  0.8125,\n",
       "  '[0, 0]',\n",
       "  5,\n",
       "  'For me, this is truly a hilarious book, a small masterpiece. Bizzare, unusual, witty, good language, well written - absolutely great, a classic.'],\n",
       " [194,\n",
       "  1.0,\n",
       "  '[0, 0]',\n",
       "  5,\n",
       "  'KEEPS YOU INTERESTED.  RECOMMEND TO ANY AGE. GENUINE MASTERPIECE EVERYONE SHOULD READ.  VERY GOOD FOR CHILDREN.  MAKES A WONDERFUL GIFT.'],\n",
       " [225,\n",
       "  0.84,\n",
       "  '[0, 0]',\n",
       "  4,\n",
       "  'In true Jules Verne style - rich descriptions - real characters - adventures and action.  Downloaded by mistake but thoroughly glad I did.'],\n",
       " [246,\n",
       "  1.0,\n",
       "  '[0, 0]',\n",
       "  5,\n",
       "  'IT IS FUN TO SEE HOW THE MYSTERIOUS ISLAND PLAYS A PRIMARY PART OF THIS WONDERFUL BOOK.  I LOVE A GOOD MYSTERY & THIS ONE WAS GREAT!  THANK YOU'],\n",
       " [405,\n",
       "  1.0,\n",
       "  '[0, 0]',\n",
       "  4,\n",
       "  'A BIT DIFFERENT FROM WHAT I EXPECTED.  IT WAS GOOD FOR LIGHT AND FAST READING.DID A LOT OF READING THE LAST COUPLE OF MONTHS.  THIS FILLED IN THE TIME.THANKS.'],\n",
       " [424,\n",
       "  0.875,\n",
       "  '[0, 0]',\n",
       "  4,\n",
       "  'Good book. Cathy Maxwell writes superb love stories. Never boring. Recommended. I gave it four stars for a HEA ending'],\n",
       " [470,\n",
       "  0.9080459770114943,\n",
       "  '[0, 0]',\n",
       "  5,\n",
       "  \"This volume contains six booksDelaney's Desert Sheikh (Delaney) (#1)A Little Dare (Dare) (#2)Thorn's Challenge (Thorn) (#3)Stone Cold Surrender (Stone) (#4)Riding the Storm (Storm) (#5)Seduction, Westmoreland Style (Casey) (#10)Well written romances that will make you root for the characters.Adults 18+ only for steamy sexy scenes.  Must read!\"],\n",
       " [482,\n",
       "  0.8805970149253731,\n",
       "  '[0, 0]',\n",
       "  5,\n",
       "  \"I love anything that Brenda Jackson writes and this book is no different. A compilation of all things Westmoreland :-) :-) :-)!!!!!!!!!!!!!!!! I'm in hog heaven!!!!!!!!!!!!!!!!!\"],\n",
       " [519,\n",
       "  0.875,\n",
       "  '[0, 0]',\n",
       "  5,\n",
       "  'As always Sharon sala comes away with another amazing story! Thanks for another great read. They keep getting better and better!'],\n",
       " [615,\n",
       "  0.8064516129032258,\n",
       "  '[3, 3]',\n",
       "  5,\n",
       "  \"Bianca never disappoints. As always, she writes a lovely story with strong and believable characters. I can't believe I never read the Dragon knights series before.\"],\n",
       " [634,\n",
       "  0.9583333333333334,\n",
       "  '[0, 0]',\n",
       "  5,\n",
       "  \"i'M SORRY I'M LATE WITH REVIEW . I THOUGHT I SENT ONE. THE BOOK WAS VERY GOOD .THANK YOU MUCH.\"],\n",
       " [680,\n",
       "  0.8235294117647058,\n",
       "  '[0, 0]',\n",
       "  3,\n",
       "  'liked ok but liked next one much better. both main characters bland and pretty sterotypical...'],\n",
       " [797,\n",
       "  0.8571428571428571,\n",
       "  '[0, 0]',\n",
       "  5,\n",
       "  \"Very good stories. Four stories. Great characters. Great story lines. Cruise gives you light reading, if that's your style. Enjoy.\"],\n",
       " [817,\n",
       "  0.8518518518518519,\n",
       "  '[0, 0]',\n",
       "  5,\n",
       "  'Not much to say but Very Hot! Good story! Quick read and worth every minute! Very very good!!! Highly recommend!'],\n",
       " [847,\n",
       "  1.0,\n",
       "  '[0, 0]',\n",
       "  5,\n",
       "  \"I HAVE NOW READ ALL OF THE BOOKS IN THIS SERIES. LOVED EVERYONE OF THEM. THE CHARACTERS ARE AMAZING. I HIGHLEY RECOMMEND THIS SERIES TO ANYONE WHO LOVES ROMANCE, ACTION, SECRETS, SEX, INTRIGUE. I HAVE EVEN PRE-ORDERED THE NEXT BOOK THAT IS DUE OUT IN AUGUST. I CAN'T WAIT. BIANCA D'ARC WRITING IS AMAZING. ONCE I GET THROUGH READING THIS SERIES. I AM GOING TO START READING HER OTHER BOOKS. IF THEY ARE HALF AS GOOD AS THIS SERIES. THEY WILL BE AWSOME. THANK YOU BIANCA FOR GIVING ME A WONDERFUL TIME READING YOUR BOOKS.\"],\n",
       " [859,\n",
       "  1.0,\n",
       "  '[0, 0]',\n",
       "  5,\n",
       "  'MARRIAGE AT CIRCLE M WAS A GOOD BOOK, I ENJOYED THE WHOLE BOOK AND WOULD SUGGEST IT TO EVERYONE THAT READS'],\n",
       " [867,\n",
       "  0.8709677419354839,\n",
       "  '[0, 0]',\n",
       "  5,\n",
       "  \"Linda Howard's books rock.  I enjoyed reading this book, since I have read several Mackenzie books in the past years, since I started reading Linda's books\"],\n",
       " [885,\n",
       "  0.8205128205128205,\n",
       "  '[0, 0]',\n",
       "  5,\n",
       "  \"I love the billionaire series especially Europians.  I watch for Cathy Williams work.  I really enjoy her work.  If anyone remembers the old stories love her work.  Keep it up Cathy I'm watching.\"],\n",
       " [959,\n",
       "  0.8571428571428571,\n",
       "  '[1, 1]',\n",
       "  5,\n",
       "  \"Absolutely fantastic series! Sexy vamps, scary bad guys, well told. Loved all the heroes and heroines equally...can't pick a favorite. Want more!!! Please!\"],\n",
       " [969,\n",
       "  1.0,\n",
       "  '[0, 0]',\n",
       "  5,\n",
       "  'ANTICIPATION WAS A GOOD BOOK, MAKE YOU BLUSH AT POINTS, BUT OVERALL A GOOD BOOK I WOULD SUGGEST IT TO OTHERS'],\n",
       " [990,\n",
       "  1.0,\n",
       "  '[0, 0]',\n",
       "  5,\n",
       "  'VERY GOOD HOILDAY BOOK VERY G GOOD READING I LOVE THE PEOPLE IN THIS BOOK I WOULD RECOMMEND THIS BOOK']]"
      ]
     },
     "execution_count": 93,
     "metadata": {},
     "output_type": "execute_result"
    }
   ],
   "source": [
    "choose_data_detail(df_A,0.8)"
   ]
  },
  {
   "cell_type": "code",
   "execution_count": null,
   "id": "31b6640d",
   "metadata": {},
   "outputs": [],
   "source": []
  }
 ],
 "metadata": {
  "kernelspec": {
   "display_name": "Python 3 (ipykernel)",
   "language": "python",
   "name": "python3"
  },
  "language_info": {
   "codemirror_mode": {
    "name": "ipython",
    "version": 3
   },
   "file_extension": ".py",
   "mimetype": "text/x-python",
   "name": "python",
   "nbconvert_exporter": "python",
   "pygments_lexer": "ipython3",
   "version": "3.9.16"
  }
 },
 "nbformat": 4,
 "nbformat_minor": 5
}
