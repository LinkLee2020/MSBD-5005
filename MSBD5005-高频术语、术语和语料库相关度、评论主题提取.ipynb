{
 "cells": [
  {
   "cell_type": "code",
   "execution_count": 1,
   "id": "499de90b",
   "metadata": {
    "ExecuteTime": {
     "end_time": "2023-04-26T02:46:36.326754Z",
     "start_time": "2023-04-26T02:46:30.368413Z"
    }
   },
   "outputs": [
    {
     "name": "stdout",
     "output_type": "stream",
     "text": [
      "Requirement already satisfied: scattertext in /Users/Link/opt/anaconda3/lib/python3.9/site-packages (0.1.17)\n",
      "Requirement already satisfied: scikit-learn in /Users/Link/opt/anaconda3/lib/python3.9/site-packages (from scattertext) (1.1.2)\n",
      "Requirement already satisfied: numpy in /Users/Link/opt/anaconda3/lib/python3.9/site-packages (from scattertext) (1.21.5)\n",
      "Requirement already satisfied: statsmodels in /Users/Link/opt/anaconda3/lib/python3.9/site-packages (from scattertext) (0.13.5)\n",
      "Requirement already satisfied: scipy in /Users/Link/opt/anaconda3/lib/python3.9/site-packages (from scattertext) (1.9.1)\n",
      "Requirement already satisfied: tqdm in /Users/Link/opt/anaconda3/lib/python3.9/site-packages (from scattertext) (4.64.1)\n",
      "Requirement already satisfied: gensim>=4.0.0 in /Users/Link/opt/anaconda3/lib/python3.9/site-packages (from scattertext) (4.1.2)\n",
      "Requirement already satisfied: pandas in /Users/Link/opt/anaconda3/lib/python3.9/site-packages (from scattertext) (1.4.4)\n",
      "Requirement already satisfied: flashtext in /Users/Link/opt/anaconda3/lib/python3.9/site-packages (from scattertext) (2.7)\n",
      "Requirement already satisfied: spacy>=3.2 in /Users/Link/opt/anaconda3/lib/python3.9/site-packages (from scattertext) (3.5.2)\n",
      "Requirement already satisfied: smart-open>=1.8.1 in /Users/Link/opt/anaconda3/lib/python3.9/site-packages (from gensim>=4.0.0->scattertext) (5.2.1)\n",
      "Requirement already satisfied: setuptools in /Users/Link/opt/anaconda3/lib/python3.9/site-packages (from spacy>=3.2->scattertext) (65.6.3)\n",
      "Requirement already satisfied: pathy>=0.10.0 in /Users/Link/opt/anaconda3/lib/python3.9/site-packages (from spacy>=3.2->scattertext) (0.10.1)\n",
      "Requirement already satisfied: preshed<3.1.0,>=3.0.2 in /Users/Link/opt/anaconda3/lib/python3.9/site-packages (from spacy>=3.2->scattertext) (3.0.8)\n",
      "Requirement already satisfied: jinja2 in /Users/Link/opt/anaconda3/lib/python3.9/site-packages (from spacy>=3.2->scattertext) (2.11.3)\n",
      "Requirement already satisfied: packaging>=20.0 in /Users/Link/opt/anaconda3/lib/python3.9/site-packages (from spacy>=3.2->scattertext) (22.0)\n",
      "Requirement already satisfied: pydantic!=1.8,!=1.8.1,<1.11.0,>=1.7.4 in /Users/Link/opt/anaconda3/lib/python3.9/site-packages (from spacy>=3.2->scattertext) (1.10.6)\n",
      "Requirement already satisfied: typer<0.8.0,>=0.3.0 in /Users/Link/opt/anaconda3/lib/python3.9/site-packages (from spacy>=3.2->scattertext) (0.7.0)\n",
      "Requirement already satisfied: langcodes<4.0.0,>=3.2.0 in /Users/Link/opt/anaconda3/lib/python3.9/site-packages (from spacy>=3.2->scattertext) (3.3.0)\n",
      "Requirement already satisfied: requests<3.0.0,>=2.13.0 in /Users/Link/opt/anaconda3/lib/python3.9/site-packages (from spacy>=3.2->scattertext) (2.28.1)\n",
      "Requirement already satisfied: catalogue<2.1.0,>=2.0.6 in /Users/Link/opt/anaconda3/lib/python3.9/site-packages (from spacy>=3.2->scattertext) (2.0.8)\n",
      "Requirement already satisfied: srsly<3.0.0,>=2.4.3 in /Users/Link/opt/anaconda3/lib/python3.9/site-packages (from spacy>=3.2->scattertext) (2.4.6)\n",
      "Requirement already satisfied: cymem<2.1.0,>=2.0.2 in /Users/Link/opt/anaconda3/lib/python3.9/site-packages (from spacy>=3.2->scattertext) (2.0.7)\n",
      "Requirement already satisfied: murmurhash<1.1.0,>=0.28.0 in /Users/Link/opt/anaconda3/lib/python3.9/site-packages (from spacy>=3.2->scattertext) (1.0.9)\n",
      "Requirement already satisfied: spacy-legacy<3.1.0,>=3.0.11 in /Users/Link/opt/anaconda3/lib/python3.9/site-packages (from spacy>=3.2->scattertext) (3.0.12)\n",
      "Requirement already satisfied: spacy-loggers<2.0.0,>=1.0.0 in /Users/Link/opt/anaconda3/lib/python3.9/site-packages (from spacy>=3.2->scattertext) (1.0.4)\n",
      "Requirement already satisfied: wasabi<1.2.0,>=0.9.1 in /Users/Link/opt/anaconda3/lib/python3.9/site-packages (from spacy>=3.2->scattertext) (1.1.1)\n",
      "Requirement already satisfied: thinc<8.2.0,>=8.1.8 in /Users/Link/opt/anaconda3/lib/python3.9/site-packages (from spacy>=3.2->scattertext) (8.1.9)\n",
      "Requirement already satisfied: python-dateutil>=2.8.1 in /Users/Link/opt/anaconda3/lib/python3.9/site-packages (from pandas->scattertext) (2.8.2)\n",
      "Requirement already satisfied: pytz>=2020.1 in /Users/Link/opt/anaconda3/lib/python3.9/site-packages (from pandas->scattertext) (2022.7)\n",
      "Requirement already satisfied: threadpoolctl>=2.0.0 in /Users/Link/opt/anaconda3/lib/python3.9/site-packages (from scikit-learn->scattertext) (2.2.0)\n",
      "Requirement already satisfied: joblib>=1.0.0 in /Users/Link/opt/anaconda3/lib/python3.9/site-packages (from scikit-learn->scattertext) (1.1.1)\n",
      "Requirement already satisfied: patsy>=0.5.2 in /Users/Link/opt/anaconda3/lib/python3.9/site-packages (from statsmodels->scattertext) (0.5.3)\n",
      "Requirement already satisfied: six in /Users/Link/opt/anaconda3/lib/python3.9/site-packages (from patsy>=0.5.2->statsmodels->scattertext) (1.16.0)\n",
      "Requirement already satisfied: typing-extensions>=4.2.0 in /Users/Link/opt/anaconda3/lib/python3.9/site-packages (from pydantic!=1.8,!=1.8.1,<1.11.0,>=1.7.4->spacy>=3.2->scattertext) (4.4.0)\n",
      "Requirement already satisfied: idna<4,>=2.5 in /Users/Link/opt/anaconda3/lib/python3.9/site-packages (from requests<3.0.0,>=2.13.0->spacy>=3.2->scattertext) (3.4)\n",
      "Requirement already satisfied: certifi>=2017.4.17 in /Users/Link/opt/anaconda3/lib/python3.9/site-packages (from requests<3.0.0,>=2.13.0->spacy>=3.2->scattertext) (2022.12.7)\n",
      "Requirement already satisfied: charset-normalizer<3,>=2 in /Users/Link/opt/anaconda3/lib/python3.9/site-packages (from requests<3.0.0,>=2.13.0->spacy>=3.2->scattertext) (2.0.4)\n",
      "Requirement already satisfied: urllib3<1.27,>=1.21.1 in /Users/Link/opt/anaconda3/lib/python3.9/site-packages (from requests<3.0.0,>=2.13.0->spacy>=3.2->scattertext) (1.26.14)\n",
      "Requirement already satisfied: confection<1.0.0,>=0.0.1 in /Users/Link/opt/anaconda3/lib/python3.9/site-packages (from thinc<8.2.0,>=8.1.8->spacy>=3.2->scattertext) (0.0.4)\n",
      "Requirement already satisfied: blis<0.8.0,>=0.7.8 in /Users/Link/opt/anaconda3/lib/python3.9/site-packages (from thinc<8.2.0,>=8.1.8->spacy>=3.2->scattertext) (0.7.9)\n",
      "Requirement already satisfied: click<9.0.0,>=7.1.1 in /Users/Link/opt/anaconda3/lib/python3.9/site-packages (from typer<0.8.0,>=0.3.0->spacy>=3.2->scattertext) (8.0.4)\n",
      "Requirement already satisfied: MarkupSafe>=0.23 in /Users/Link/opt/anaconda3/lib/python3.9/site-packages (from jinja2->spacy>=3.2->scattertext) (2.0.1)\n",
      "Requirement already satisfied: spacy in /Users/Link/opt/anaconda3/lib/python3.9/site-packages (3.5.2)\n",
      "Requirement already satisfied: numpy>=1.15.0 in /Users/Link/opt/anaconda3/lib/python3.9/site-packages (from spacy) (1.21.5)\n",
      "Requirement already satisfied: setuptools in /Users/Link/opt/anaconda3/lib/python3.9/site-packages (from spacy) (65.6.3)\n",
      "Requirement already satisfied: typer<0.8.0,>=0.3.0 in /Users/Link/opt/anaconda3/lib/python3.9/site-packages (from spacy) (0.7.0)\n",
      "Requirement already satisfied: tqdm<5.0.0,>=4.38.0 in /Users/Link/opt/anaconda3/lib/python3.9/site-packages (from spacy) (4.64.1)\n",
      "Requirement already satisfied: requests<3.0.0,>=2.13.0 in /Users/Link/opt/anaconda3/lib/python3.9/site-packages (from spacy) (2.28.1)\n",
      "Requirement already satisfied: thinc<8.2.0,>=8.1.8 in /Users/Link/opt/anaconda3/lib/python3.9/site-packages (from spacy) (8.1.9)\n",
      "Requirement already satisfied: langcodes<4.0.0,>=3.2.0 in /Users/Link/opt/anaconda3/lib/python3.9/site-packages (from spacy) (3.3.0)\n",
      "Requirement already satisfied: spacy-loggers<2.0.0,>=1.0.0 in /Users/Link/opt/anaconda3/lib/python3.9/site-packages (from spacy) (1.0.4)\n",
      "Requirement already satisfied: spacy-legacy<3.1.0,>=3.0.11 in /Users/Link/opt/anaconda3/lib/python3.9/site-packages (from spacy) (3.0.12)\n",
      "Requirement already satisfied: cymem<2.1.0,>=2.0.2 in /Users/Link/opt/anaconda3/lib/python3.9/site-packages (from spacy) (2.0.7)\n",
      "Requirement already satisfied: murmurhash<1.1.0,>=0.28.0 in /Users/Link/opt/anaconda3/lib/python3.9/site-packages (from spacy) (1.0.9)\n",
      "Requirement already satisfied: catalogue<2.1.0,>=2.0.6 in /Users/Link/opt/anaconda3/lib/python3.9/site-packages (from spacy) (2.0.8)\n",
      "Requirement already satisfied: jinja2 in /Users/Link/opt/anaconda3/lib/python3.9/site-packages (from spacy) (2.11.3)\n",
      "Requirement already satisfied: pathy>=0.10.0 in /Users/Link/opt/anaconda3/lib/python3.9/site-packages (from spacy) (0.10.1)\n",
      "Requirement already satisfied: pydantic!=1.8,!=1.8.1,<1.11.0,>=1.7.4 in /Users/Link/opt/anaconda3/lib/python3.9/site-packages (from spacy) (1.10.6)\n",
      "Requirement already satisfied: packaging>=20.0 in /Users/Link/opt/anaconda3/lib/python3.9/site-packages (from spacy) (22.0)\n",
      "Requirement already satisfied: wasabi<1.2.0,>=0.9.1 in /Users/Link/opt/anaconda3/lib/python3.9/site-packages (from spacy) (1.1.1)\n",
      "Requirement already satisfied: srsly<3.0.0,>=2.4.3 in /Users/Link/opt/anaconda3/lib/python3.9/site-packages (from spacy) (2.4.6)\n",
      "Requirement already satisfied: smart-open<7.0.0,>=5.2.1 in /Users/Link/opt/anaconda3/lib/python3.9/site-packages (from spacy) (5.2.1)\n",
      "Requirement already satisfied: preshed<3.1.0,>=3.0.2 in /Users/Link/opt/anaconda3/lib/python3.9/site-packages (from spacy) (3.0.8)\n",
      "Requirement already satisfied: typing-extensions>=4.2.0 in /Users/Link/opt/anaconda3/lib/python3.9/site-packages (from pydantic!=1.8,!=1.8.1,<1.11.0,>=1.7.4->spacy) (4.4.0)\n",
      "Requirement already satisfied: urllib3<1.27,>=1.21.1 in /Users/Link/opt/anaconda3/lib/python3.9/site-packages (from requests<3.0.0,>=2.13.0->spacy) (1.26.14)\n",
      "Requirement already satisfied: certifi>=2017.4.17 in /Users/Link/opt/anaconda3/lib/python3.9/site-packages (from requests<3.0.0,>=2.13.0->spacy) (2022.12.7)\n",
      "Requirement already satisfied: idna<4,>=2.5 in /Users/Link/opt/anaconda3/lib/python3.9/site-packages (from requests<3.0.0,>=2.13.0->spacy) (3.4)\n",
      "Requirement already satisfied: charset-normalizer<3,>=2 in /Users/Link/opt/anaconda3/lib/python3.9/site-packages (from requests<3.0.0,>=2.13.0->spacy) (2.0.4)\n"
     ]
    },
    {
     "name": "stdout",
     "output_type": "stream",
     "text": [
      "Requirement already satisfied: blis<0.8.0,>=0.7.8 in /Users/Link/opt/anaconda3/lib/python3.9/site-packages (from thinc<8.2.0,>=8.1.8->spacy) (0.7.9)\n",
      "Requirement already satisfied: confection<1.0.0,>=0.0.1 in /Users/Link/opt/anaconda3/lib/python3.9/site-packages (from thinc<8.2.0,>=8.1.8->spacy) (0.0.4)\n",
      "Requirement already satisfied: click<9.0.0,>=7.1.1 in /Users/Link/opt/anaconda3/lib/python3.9/site-packages (from typer<0.8.0,>=0.3.0->spacy) (8.0.4)\n",
      "Requirement already satisfied: MarkupSafe>=0.23 in /Users/Link/opt/anaconda3/lib/python3.9/site-packages (from jinja2->spacy) (2.0.1)\n"
     ]
    }
   ],
   "source": [
    "!pip install scattertext\n",
    "!pip install spacy"
   ]
  },
  {
   "cell_type": "code",
   "execution_count": 27,
   "id": "fce7a3fb",
   "metadata": {
    "ExecuteTime": {
     "end_time": "2023-04-26T02:54:29.166282Z",
     "start_time": "2023-04-26T02:54:29.156550Z"
    }
   },
   "outputs": [],
   "source": [
    "import scattertext as st\n",
    "import pandas as pd\n",
    "import spacy\n",
    "from scattertext import SampleCorpora, PhraseMachinePhrases, dense_rank, RankDifference, AssociationCompactor, produce_scattertext_explorer\n",
    "from scattertext.CorpusFromPandas import CorpusFromPandas\n",
    "import pandas as pd\n",
    "import nltk\n",
    "from nltk.corpus import stopwords\n",
    "from nltk.stem import SnowballStemmer"
   ]
  },
  {
   "cell_type": "code",
   "execution_count": 28,
   "id": "fca1ee13",
   "metadata": {
    "ExecuteTime": {
     "end_time": "2023-04-26T02:54:38.352580Z",
     "start_time": "2023-04-26T02:54:29.279587Z"
    }
   },
   "outputs": [
    {
     "data": {
      "text/html": [
       "<div>\n",
       "<style scoped>\n",
       "    .dataframe tbody tr th:only-of-type {\n",
       "        vertical-align: middle;\n",
       "    }\n",
       "\n",
       "    .dataframe tbody tr th {\n",
       "        vertical-align: top;\n",
       "    }\n",
       "\n",
       "    .dataframe thead th {\n",
       "        text-align: right;\n",
       "    }\n",
       "</style>\n",
       "<table border=\"1\" class=\"dataframe\">\n",
       "  <thead>\n",
       "    <tr style=\"text-align: right;\">\n",
       "      <th></th>\n",
       "      <th>Unnamed: 0</th>\n",
       "      <th>asin</th>\n",
       "      <th>helpful</th>\n",
       "      <th>overall</th>\n",
       "      <th>reviewText</th>\n",
       "      <th>reviewTime</th>\n",
       "      <th>reviewerID</th>\n",
       "      <th>reviewerName</th>\n",
       "      <th>summary</th>\n",
       "      <th>unixReviewTime</th>\n",
       "    </tr>\n",
       "  </thead>\n",
       "  <tbody>\n",
       "    <tr>\n",
       "      <th>0</th>\n",
       "      <td>0</td>\n",
       "      <td>B000F83SZQ</td>\n",
       "      <td>[0, 0]</td>\n",
       "      <td>5</td>\n",
       "      <td>I enjoy vintage books and movies so I enjoyed ...</td>\n",
       "      <td>05 5, 2014</td>\n",
       "      <td>A1F6404F1VG29J</td>\n",
       "      <td>Avidreader</td>\n",
       "      <td>Nice vintage story</td>\n",
       "      <td>1399248000</td>\n",
       "    </tr>\n",
       "    <tr>\n",
       "      <th>1</th>\n",
       "      <td>1</td>\n",
       "      <td>B000F83SZQ</td>\n",
       "      <td>[2, 2]</td>\n",
       "      <td>4</td>\n",
       "      <td>This book is a reissue of an old one; the auth...</td>\n",
       "      <td>01 6, 2014</td>\n",
       "      <td>AN0N05A9LIJEQ</td>\n",
       "      <td>critters</td>\n",
       "      <td>Different...</td>\n",
       "      <td>1388966400</td>\n",
       "    </tr>\n",
       "    <tr>\n",
       "      <th>2</th>\n",
       "      <td>2</td>\n",
       "      <td>B000F83SZQ</td>\n",
       "      <td>[2, 2]</td>\n",
       "      <td>4</td>\n",
       "      <td>This was a fairly interesting read.  It had ol...</td>\n",
       "      <td>04 4, 2014</td>\n",
       "      <td>A795DMNCJILA6</td>\n",
       "      <td>dot</td>\n",
       "      <td>Oldie</td>\n",
       "      <td>1396569600</td>\n",
       "    </tr>\n",
       "    <tr>\n",
       "      <th>3</th>\n",
       "      <td>3</td>\n",
       "      <td>B000F83SZQ</td>\n",
       "      <td>[1, 1]</td>\n",
       "      <td>5</td>\n",
       "      <td>I'd never read any of the Amy Brewster mysteri...</td>\n",
       "      <td>02 19, 2014</td>\n",
       "      <td>A1FV0SX13TWVXQ</td>\n",
       "      <td>Elaine H. Turley \"Montana Songbird\"</td>\n",
       "      <td>I really liked it.</td>\n",
       "      <td>1392768000</td>\n",
       "    </tr>\n",
       "    <tr>\n",
       "      <th>4</th>\n",
       "      <td>4</td>\n",
       "      <td>B000F83SZQ</td>\n",
       "      <td>[0, 1]</td>\n",
       "      <td>4</td>\n",
       "      <td>If you like period pieces - clothing, lingo, y...</td>\n",
       "      <td>03 19, 2014</td>\n",
       "      <td>A3SPTOKDG7WBLN</td>\n",
       "      <td>Father Dowling Fan</td>\n",
       "      <td>Period Mystery</td>\n",
       "      <td>1395187200</td>\n",
       "    </tr>\n",
       "  </tbody>\n",
       "</table>\n",
       "</div>"
      ],
      "text/plain": [
       "   Unnamed: 0        asin helpful  overall  \\\n",
       "0           0  B000F83SZQ  [0, 0]        5   \n",
       "1           1  B000F83SZQ  [2, 2]        4   \n",
       "2           2  B000F83SZQ  [2, 2]        4   \n",
       "3           3  B000F83SZQ  [1, 1]        5   \n",
       "4           4  B000F83SZQ  [0, 1]        4   \n",
       "\n",
       "                                          reviewText   reviewTime  \\\n",
       "0  I enjoy vintage books and movies so I enjoyed ...   05 5, 2014   \n",
       "1  This book is a reissue of an old one; the auth...   01 6, 2014   \n",
       "2  This was a fairly interesting read.  It had ol...   04 4, 2014   \n",
       "3  I'd never read any of the Amy Brewster mysteri...  02 19, 2014   \n",
       "4  If you like period pieces - clothing, lingo, y...  03 19, 2014   \n",
       "\n",
       "       reviewerID                         reviewerName             summary  \\\n",
       "0  A1F6404F1VG29J                           Avidreader  Nice vintage story   \n",
       "1   AN0N05A9LIJEQ                             critters        Different...   \n",
       "2   A795DMNCJILA6                                  dot               Oldie   \n",
       "3  A1FV0SX13TWVXQ  Elaine H. Turley \"Montana Songbird\"  I really liked it.   \n",
       "4  A3SPTOKDG7WBLN                   Father Dowling Fan      Period Mystery   \n",
       "\n",
       "   unixReviewTime  \n",
       "0      1399248000  \n",
       "1      1388966400  \n",
       "2      1396569600  \n",
       "3      1392768000  \n",
       "4      1395187200  "
      ]
     },
     "execution_count": 28,
     "metadata": {},
     "output_type": "execute_result"
    }
   ],
   "source": [
    "df = pd.read_csv('/Users/Link/Documents/5005数据可视化/Group project/archive/kindle_reviews.csv')\n",
    "df.head()"
   ]
  },
  {
   "cell_type": "markdown",
   "id": "4bab0fd7",
   "metadata": {
    "ExecuteTime": {
     "end_time": "2023-04-10T11:20:17.670296Z",
     "start_time": "2023-04-10T11:20:17.657244Z"
    }
   },
   "source": [
    "**Columns:**  \n",
    "asin - 书籍id  \n",
    "helpful - 有帮助的概率    \n",
    "overall - 书籍评分  \n",
    "reviewText - 评论文本  \n",
    "reviewTime - 评论时间   \n",
    "reviewerID - 评论者id   \n",
    "reviewerName - 评论者名称  \n",
    "summary - 评论综述  \n",
    "unixReviewTime - 时间戳"
   ]
  },
  {
   "cell_type": "code",
   "execution_count": 29,
   "id": "21c24e3e",
   "metadata": {
    "ExecuteTime": {
     "end_time": "2023-04-26T02:54:38.479136Z",
     "start_time": "2023-04-26T02:54:38.354648Z"
    }
   },
   "outputs": [
    {
     "data": {
      "text/html": [
       "<div>\n",
       "<style scoped>\n",
       "    .dataframe tbody tr th:only-of-type {\n",
       "        vertical-align: middle;\n",
       "    }\n",
       "\n",
       "    .dataframe tbody tr th {\n",
       "        vertical-align: top;\n",
       "    }\n",
       "\n",
       "    .dataframe thead th {\n",
       "        text-align: right;\n",
       "    }\n",
       "</style>\n",
       "<table border=\"1\" class=\"dataframe\">\n",
       "  <thead>\n",
       "    <tr style=\"text-align: right;\">\n",
       "      <th></th>\n",
       "      <th>Unnamed: 0</th>\n",
       "      <th>asin</th>\n",
       "      <th>helpful</th>\n",
       "      <th>overall</th>\n",
       "      <th>reviewText</th>\n",
       "      <th>reviewTime</th>\n",
       "      <th>reviewerID</th>\n",
       "      <th>reviewerName</th>\n",
       "      <th>summary</th>\n",
       "      <th>unixReviewTime</th>\n",
       "      <th>sentiment</th>\n",
       "    </tr>\n",
       "  </thead>\n",
       "  <tbody>\n",
       "    <tr>\n",
       "      <th>0</th>\n",
       "      <td>0</td>\n",
       "      <td>B000F83SZQ</td>\n",
       "      <td>[0, 0]</td>\n",
       "      <td>5</td>\n",
       "      <td>I enjoy vintage books and movies so I enjoyed ...</td>\n",
       "      <td>05 5, 2014</td>\n",
       "      <td>A1F6404F1VG29J</td>\n",
       "      <td>Avidreader</td>\n",
       "      <td>Nice vintage story</td>\n",
       "      <td>1399248000</td>\n",
       "      <td>pos</td>\n",
       "    </tr>\n",
       "    <tr>\n",
       "      <th>1</th>\n",
       "      <td>1</td>\n",
       "      <td>B000F83SZQ</td>\n",
       "      <td>[2, 2]</td>\n",
       "      <td>4</td>\n",
       "      <td>This book is a reissue of an old one; the auth...</td>\n",
       "      <td>01 6, 2014</td>\n",
       "      <td>AN0N05A9LIJEQ</td>\n",
       "      <td>critters</td>\n",
       "      <td>Different...</td>\n",
       "      <td>1388966400</td>\n",
       "      <td>pos</td>\n",
       "    </tr>\n",
       "    <tr>\n",
       "      <th>2</th>\n",
       "      <td>2</td>\n",
       "      <td>B000F83SZQ</td>\n",
       "      <td>[2, 2]</td>\n",
       "      <td>4</td>\n",
       "      <td>This was a fairly interesting read.  It had ol...</td>\n",
       "      <td>04 4, 2014</td>\n",
       "      <td>A795DMNCJILA6</td>\n",
       "      <td>dot</td>\n",
       "      <td>Oldie</td>\n",
       "      <td>1396569600</td>\n",
       "      <td>pos</td>\n",
       "    </tr>\n",
       "    <tr>\n",
       "      <th>3</th>\n",
       "      <td>3</td>\n",
       "      <td>B000F83SZQ</td>\n",
       "      <td>[1, 1]</td>\n",
       "      <td>5</td>\n",
       "      <td>I'd never read any of the Amy Brewster mysteri...</td>\n",
       "      <td>02 19, 2014</td>\n",
       "      <td>A1FV0SX13TWVXQ</td>\n",
       "      <td>Elaine H. Turley \"Montana Songbird\"</td>\n",
       "      <td>I really liked it.</td>\n",
       "      <td>1392768000</td>\n",
       "      <td>pos</td>\n",
       "    </tr>\n",
       "    <tr>\n",
       "      <th>4</th>\n",
       "      <td>4</td>\n",
       "      <td>B000F83SZQ</td>\n",
       "      <td>[0, 1]</td>\n",
       "      <td>4</td>\n",
       "      <td>If you like period pieces - clothing, lingo, y...</td>\n",
       "      <td>03 19, 2014</td>\n",
       "      <td>A3SPTOKDG7WBLN</td>\n",
       "      <td>Father Dowling Fan</td>\n",
       "      <td>Period Mystery</td>\n",
       "      <td>1395187200</td>\n",
       "      <td>pos</td>\n",
       "    </tr>\n",
       "  </tbody>\n",
       "</table>\n",
       "</div>"
      ],
      "text/plain": [
       "   Unnamed: 0        asin helpful  overall  \\\n",
       "0           0  B000F83SZQ  [0, 0]        5   \n",
       "1           1  B000F83SZQ  [2, 2]        4   \n",
       "2           2  B000F83SZQ  [2, 2]        4   \n",
       "3           3  B000F83SZQ  [1, 1]        5   \n",
       "4           4  B000F83SZQ  [0, 1]        4   \n",
       "\n",
       "                                          reviewText   reviewTime  \\\n",
       "0  I enjoy vintage books and movies so I enjoyed ...   05 5, 2014   \n",
       "1  This book is a reissue of an old one; the auth...   01 6, 2014   \n",
       "2  This was a fairly interesting read.  It had ol...   04 4, 2014   \n",
       "3  I'd never read any of the Amy Brewster mysteri...  02 19, 2014   \n",
       "4  If you like period pieces - clothing, lingo, y...  03 19, 2014   \n",
       "\n",
       "       reviewerID                         reviewerName             summary  \\\n",
       "0  A1F6404F1VG29J                           Avidreader  Nice vintage story   \n",
       "1   AN0N05A9LIJEQ                             critters        Different...   \n",
       "2   A795DMNCJILA6                                  dot               Oldie   \n",
       "3  A1FV0SX13TWVXQ  Elaine H. Turley \"Montana Songbird\"  I really liked it.   \n",
       "4  A3SPTOKDG7WBLN                   Father Dowling Fan      Period Mystery   \n",
       "\n",
       "   unixReviewTime sentiment  \n",
       "0      1399248000       pos  \n",
       "1      1388966400       pos  \n",
       "2      1396569600       pos  \n",
       "3      1392768000       pos  \n",
       "4      1395187200       pos  "
      ]
     },
     "execution_count": 29,
     "metadata": {},
     "output_type": "execute_result"
    }
   ],
   "source": [
    "# 定义函数来根据分数评价积极或消极\n",
    "def get_evaluation(score):\n",
    "    if score >= 4:\n",
    "        return 'pos'\n",
    "    elif score<=3:\n",
    "        return 'neg'\n",
    "\n",
    "# 将函数应用到每一行的分数列中，并将结果存储到评价列中\n",
    "df['sentiment'] = df['overall'].apply(get_evaluation)\n",
    "\n",
    "df.head()"
   ]
  },
  {
   "cell_type": "code",
   "execution_count": 30,
   "id": "7c0367b5",
   "metadata": {
    "ExecuteTime": {
     "end_time": "2023-04-26T02:54:38.482623Z",
     "start_time": "2023-04-26T02:54:38.480702Z"
    }
   },
   "outputs": [],
   "source": [
    "#test = df.loc[df['overall'] == 5]"
   ]
  },
  {
   "cell_type": "code",
   "execution_count": 31,
   "id": "9b30036e",
   "metadata": {
    "ExecuteTime": {
     "end_time": "2023-04-26T02:54:38.606053Z",
     "start_time": "2023-04-26T02:54:38.485015Z"
    }
   },
   "outputs": [],
   "source": [
    "review_text = df[['reviewText','sentiment']]"
   ]
  },
  {
   "cell_type": "code",
   "execution_count": 32,
   "id": "001a4d01",
   "metadata": {
    "ExecuteTime": {
     "end_time": "2023-04-26T02:54:38.614222Z",
     "start_time": "2023-04-26T02:54:38.607736Z"
    }
   },
   "outputs": [
    {
     "data": {
      "text/html": [
       "<div>\n",
       "<style scoped>\n",
       "    .dataframe tbody tr th:only-of-type {\n",
       "        vertical-align: middle;\n",
       "    }\n",
       "\n",
       "    .dataframe tbody tr th {\n",
       "        vertical-align: top;\n",
       "    }\n",
       "\n",
       "    .dataframe thead th {\n",
       "        text-align: right;\n",
       "    }\n",
       "</style>\n",
       "<table border=\"1\" class=\"dataframe\">\n",
       "  <thead>\n",
       "    <tr style=\"text-align: right;\">\n",
       "      <th></th>\n",
       "      <th>reviewText</th>\n",
       "      <th>sentiment</th>\n",
       "    </tr>\n",
       "  </thead>\n",
       "  <tbody>\n",
       "    <tr>\n",
       "      <th>0</th>\n",
       "      <td>I enjoy vintage books and movies so I enjoyed ...</td>\n",
       "      <td>pos</td>\n",
       "    </tr>\n",
       "    <tr>\n",
       "      <th>1</th>\n",
       "      <td>This book is a reissue of an old one; the auth...</td>\n",
       "      <td>pos</td>\n",
       "    </tr>\n",
       "    <tr>\n",
       "      <th>2</th>\n",
       "      <td>This was a fairly interesting read.  It had ol...</td>\n",
       "      <td>pos</td>\n",
       "    </tr>\n",
       "    <tr>\n",
       "      <th>3</th>\n",
       "      <td>I'd never read any of the Amy Brewster mysteri...</td>\n",
       "      <td>pos</td>\n",
       "    </tr>\n",
       "    <tr>\n",
       "      <th>4</th>\n",
       "      <td>If you like period pieces - clothing, lingo, y...</td>\n",
       "      <td>pos</td>\n",
       "    </tr>\n",
       "    <tr>\n",
       "      <th>...</th>\n",
       "      <td>...</td>\n",
       "      <td>...</td>\n",
       "    </tr>\n",
       "    <tr>\n",
       "      <th>982614</th>\n",
       "      <td>Yasss hunny! This is a great read. That Dre is...</td>\n",
       "      <td>pos</td>\n",
       "    </tr>\n",
       "    <tr>\n",
       "      <th>982615</th>\n",
       "      <td>I ENJOYED THIS BOOK FROM BEGINNING TO END NOW ...</td>\n",
       "      <td>pos</td>\n",
       "    </tr>\n",
       "    <tr>\n",
       "      <th>982616</th>\n",
       "      <td>Great book! Cherika was a fool. She let that m...</td>\n",
       "      <td>pos</td>\n",
       "    </tr>\n",
       "    <tr>\n",
       "      <th>982617</th>\n",
       "      <td>When I say this was an excellent book please b...</td>\n",
       "      <td>pos</td>\n",
       "    </tr>\n",
       "    <tr>\n",
       "      <th>982618</th>\n",
       "      <td>This book was everything. I just hope Alexus w...</td>\n",
       "      <td>pos</td>\n",
       "    </tr>\n",
       "  </tbody>\n",
       "</table>\n",
       "<p>982619 rows × 2 columns</p>\n",
       "</div>"
      ],
      "text/plain": [
       "                                               reviewText sentiment\n",
       "0       I enjoy vintage books and movies so I enjoyed ...       pos\n",
       "1       This book is a reissue of an old one; the auth...       pos\n",
       "2       This was a fairly interesting read.  It had ol...       pos\n",
       "3       I'd never read any of the Amy Brewster mysteri...       pos\n",
       "4       If you like period pieces - clothing, lingo, y...       pos\n",
       "...                                                   ...       ...\n",
       "982614  Yasss hunny! This is a great read. That Dre is...       pos\n",
       "982615  I ENJOYED THIS BOOK FROM BEGINNING TO END NOW ...       pos\n",
       "982616  Great book! Cherika was a fool. She let that m...       pos\n",
       "982617  When I say this was an excellent book please b...       pos\n",
       "982618  This book was everything. I just hope Alexus w...       pos\n",
       "\n",
       "[982619 rows x 2 columns]"
      ]
     },
     "execution_count": 32,
     "metadata": {},
     "output_type": "execute_result"
    }
   ],
   "source": [
    "review_text"
   ]
  },
  {
   "cell_type": "code",
   "execution_count": 33,
   "id": "7a13b434",
   "metadata": {
    "ExecuteTime": {
     "end_time": "2023-04-26T02:54:45.433115Z",
     "start_time": "2023-04-26T02:54:38.615733Z"
    }
   },
   "outputs": [
    {
     "name": "stdout",
     "output_type": "stream",
     "text": [
      "Requirement already satisfied: spacy in /Users/Link/opt/anaconda3/lib/python3.9/site-packages (3.5.2)\n",
      "Requirement already satisfied: numpy>=1.15.0 in /Users/Link/opt/anaconda3/lib/python3.9/site-packages (from spacy) (1.21.5)\n",
      "Requirement already satisfied: murmurhash<1.1.0,>=0.28.0 in /Users/Link/opt/anaconda3/lib/python3.9/site-packages (from spacy) (1.0.9)\n",
      "Requirement already satisfied: jinja2 in /Users/Link/opt/anaconda3/lib/python3.9/site-packages (from spacy) (2.11.3)\n",
      "Requirement already satisfied: packaging>=20.0 in /Users/Link/opt/anaconda3/lib/python3.9/site-packages (from spacy) (22.0)\n",
      "Requirement already satisfied: pydantic!=1.8,!=1.8.1,<1.11.0,>=1.7.4 in /Users/Link/opt/anaconda3/lib/python3.9/site-packages (from spacy) (1.10.6)\n",
      "Requirement already satisfied: srsly<3.0.0,>=2.4.3 in /Users/Link/opt/anaconda3/lib/python3.9/site-packages (from spacy) (2.4.6)\n",
      "Requirement already satisfied: thinc<8.2.0,>=8.1.8 in /Users/Link/opt/anaconda3/lib/python3.9/site-packages (from spacy) (8.1.9)\n",
      "Requirement already satisfied: langcodes<4.0.0,>=3.2.0 in /Users/Link/opt/anaconda3/lib/python3.9/site-packages (from spacy) (3.3.0)\n",
      "Requirement already satisfied: cymem<2.1.0,>=2.0.2 in /Users/Link/opt/anaconda3/lib/python3.9/site-packages (from spacy) (2.0.7)\n",
      "Requirement already satisfied: typer<0.8.0,>=0.3.0 in /Users/Link/opt/anaconda3/lib/python3.9/site-packages (from spacy) (0.7.0)\n",
      "Requirement already satisfied: spacy-loggers<2.0.0,>=1.0.0 in /Users/Link/opt/anaconda3/lib/python3.9/site-packages (from spacy) (1.0.4)\n",
      "Requirement already satisfied: setuptools in /Users/Link/opt/anaconda3/lib/python3.9/site-packages (from spacy) (65.6.3)\n",
      "Requirement already satisfied: pathy>=0.10.0 in /Users/Link/opt/anaconda3/lib/python3.9/site-packages (from spacy) (0.10.1)\n",
      "Requirement already satisfied: catalogue<2.1.0,>=2.0.6 in /Users/Link/opt/anaconda3/lib/python3.9/site-packages (from spacy) (2.0.8)\n",
      "Requirement already satisfied: spacy-legacy<3.1.0,>=3.0.11 in /Users/Link/opt/anaconda3/lib/python3.9/site-packages (from spacy) (3.0.12)\n",
      "Requirement already satisfied: preshed<3.1.0,>=3.0.2 in /Users/Link/opt/anaconda3/lib/python3.9/site-packages (from spacy) (3.0.8)\n",
      "Requirement already satisfied: requests<3.0.0,>=2.13.0 in /Users/Link/opt/anaconda3/lib/python3.9/site-packages (from spacy) (2.28.1)\n",
      "Requirement already satisfied: wasabi<1.2.0,>=0.9.1 in /Users/Link/opt/anaconda3/lib/python3.9/site-packages (from spacy) (1.1.1)\n",
      "Requirement already satisfied: tqdm<5.0.0,>=4.38.0 in /Users/Link/opt/anaconda3/lib/python3.9/site-packages (from spacy) (4.64.1)\n",
      "Requirement already satisfied: smart-open<7.0.0,>=5.2.1 in /Users/Link/opt/anaconda3/lib/python3.9/site-packages (from spacy) (5.2.1)\n",
      "Requirement already satisfied: typing-extensions>=4.2.0 in /Users/Link/opt/anaconda3/lib/python3.9/site-packages (from pydantic!=1.8,!=1.8.1,<1.11.0,>=1.7.4->spacy) (4.4.0)\n",
      "Requirement already satisfied: certifi>=2017.4.17 in /Users/Link/opt/anaconda3/lib/python3.9/site-packages (from requests<3.0.0,>=2.13.0->spacy) (2022.12.7)\n",
      "Requirement already satisfied: idna<4,>=2.5 in /Users/Link/opt/anaconda3/lib/python3.9/site-packages (from requests<3.0.0,>=2.13.0->spacy) (3.4)\n",
      "Requirement already satisfied: charset-normalizer<3,>=2 in /Users/Link/opt/anaconda3/lib/python3.9/site-packages (from requests<3.0.0,>=2.13.0->spacy) (2.0.4)\n",
      "Requirement already satisfied: urllib3<1.27,>=1.21.1 in /Users/Link/opt/anaconda3/lib/python3.9/site-packages (from requests<3.0.0,>=2.13.0->spacy) (1.26.14)\n",
      "Requirement already satisfied: confection<1.0.0,>=0.0.1 in /Users/Link/opt/anaconda3/lib/python3.9/site-packages (from thinc<8.2.0,>=8.1.8->spacy) (0.0.4)\n",
      "Requirement already satisfied: blis<0.8.0,>=0.7.8 in /Users/Link/opt/anaconda3/lib/python3.9/site-packages (from thinc<8.2.0,>=8.1.8->spacy) (0.7.9)\n",
      "Requirement already satisfied: click<9.0.0,>=7.1.1 in /Users/Link/opt/anaconda3/lib/python3.9/site-packages (from typer<0.8.0,>=0.3.0->spacy) (8.0.4)\n",
      "Requirement already satisfied: MarkupSafe>=0.23 in /Users/Link/opt/anaconda3/lib/python3.9/site-packages (from jinja2->spacy) (2.0.1)\n"
     ]
    }
   ],
   "source": [
    "!pip install -U spacy\n",
    "!python -m spacy download en_core_web_sm"
   ]
  },
  {
   "cell_type": "code",
   "execution_count": 34,
   "id": "20e7d5f3",
   "metadata": {
    "ExecuteTime": {
     "end_time": "2023-04-26T02:54:45.812352Z",
     "start_time": "2023-04-26T02:54:45.436699Z"
    }
   },
   "outputs": [],
   "source": [
    "review_text_copy = review_text.copy()\n",
    "review_text_copy['reviewText'] = review_text_copy['reviewText'].astype(str)"
   ]
  },
  {
   "cell_type": "code",
   "execution_count": 35,
   "id": "4c4ccbc0",
   "metadata": {
    "ExecuteTime": {
     "end_time": "2023-04-26T02:54:45.817083Z",
     "start_time": "2023-04-26T02:54:45.813721Z"
    }
   },
   "outputs": [],
   "source": [
    "review_text_5000 = review_text_copy.iloc[:5000,:]"
   ]
  },
  {
   "cell_type": "markdown",
   "id": "707885e0",
   "metadata": {},
   "source": [
    "常见的预处理操作：\n",
    "分词（tokenization）：将文本分成单独的单词或标记（token）。  \n",
    "去除停用词（stop words removal）：去除一些常见但无意义的词语（如 \"the\"、\"a\"、\"an\" 等）。  \n",
    "词干化（stemming）和词形还原（lemmatization）：将单词的不同形式（如复数形式、时态等）归一化为一个基本形式。  \n",
    "去除标点符号（punctuation removal）：去除文本中的标点符号，这些符号通常不会提供太多的信息。  \n",
    "去除 HTML 标签（HTML tag removal）：如果文本包含 HTML 标记，则需要去除它们，以便更好地处理文本。  \n",
    "去除特殊字符（special character removal）：如果文本包含一些特殊字符（如 URL、邮件地址等），可以考虑去除它们。  "
   ]
  },
  {
   "cell_type": "code",
   "execution_count": 36,
   "id": "32a15bc1",
   "metadata": {
    "ExecuteTime": {
     "end_time": "2023-04-26T02:54:45.824780Z",
     "start_time": "2023-04-26T02:54:45.819071Z"
    }
   },
   "outputs": [
    {
     "data": {
      "text/html": [
       "<div>\n",
       "<style scoped>\n",
       "    .dataframe tbody tr th:only-of-type {\n",
       "        vertical-align: middle;\n",
       "    }\n",
       "\n",
       "    .dataframe tbody tr th {\n",
       "        vertical-align: top;\n",
       "    }\n",
       "\n",
       "    .dataframe thead th {\n",
       "        text-align: right;\n",
       "    }\n",
       "</style>\n",
       "<table border=\"1\" class=\"dataframe\">\n",
       "  <thead>\n",
       "    <tr style=\"text-align: right;\">\n",
       "      <th></th>\n",
       "      <th>reviewText</th>\n",
       "      <th>sentiment</th>\n",
       "    </tr>\n",
       "  </thead>\n",
       "  <tbody>\n",
       "    <tr>\n",
       "      <th>0</th>\n",
       "      <td>I enjoy vintage books and movies so I enjoyed ...</td>\n",
       "      <td>pos</td>\n",
       "    </tr>\n",
       "    <tr>\n",
       "      <th>1</th>\n",
       "      <td>This book is a reissue of an old one; the auth...</td>\n",
       "      <td>pos</td>\n",
       "    </tr>\n",
       "    <tr>\n",
       "      <th>2</th>\n",
       "      <td>This was a fairly interesting read.  It had ol...</td>\n",
       "      <td>pos</td>\n",
       "    </tr>\n",
       "    <tr>\n",
       "      <th>3</th>\n",
       "      <td>I'd never read any of the Amy Brewster mysteri...</td>\n",
       "      <td>pos</td>\n",
       "    </tr>\n",
       "    <tr>\n",
       "      <th>4</th>\n",
       "      <td>If you like period pieces - clothing, lingo, y...</td>\n",
       "      <td>pos</td>\n",
       "    </tr>\n",
       "  </tbody>\n",
       "</table>\n",
       "</div>"
      ],
      "text/plain": [
       "                                          reviewText sentiment\n",
       "0  I enjoy vintage books and movies so I enjoyed ...       pos\n",
       "1  This book is a reissue of an old one; the auth...       pos\n",
       "2  This was a fairly interesting read.  It had ol...       pos\n",
       "3  I'd never read any of the Amy Brewster mysteri...       pos\n",
       "4  If you like period pieces - clothing, lingo, y...       pos"
      ]
     },
     "execution_count": 36,
     "metadata": {},
     "output_type": "execute_result"
    }
   ],
   "source": [
    "review_text_5000.head()"
   ]
  },
  {
   "cell_type": "code",
   "execution_count": 37,
   "id": "6bb0561b",
   "metadata": {
    "ExecuteTime": {
     "end_time": "2023-04-26T02:54:49.924792Z",
     "start_time": "2023-04-26T02:54:45.828975Z"
    }
   },
   "outputs": [
    {
     "name": "stderr",
     "output_type": "stream",
     "text": [
      "[nltk_data] Downloading package stopwords to /Users/Link/nltk_data...\n",
      "[nltk_data]   Package stopwords is already up-to-date!\n",
      "[nltk_data] Downloading package punkt to /Users/Link/nltk_data...\n",
      "[nltk_data]   Package punkt is already up-to-date!\n",
      "/var/folders/qm/jh9yg7h129q058z58zlc62v80000gn/T/ipykernel_8913/309058347.py:40: SettingWithCopyWarning: \n",
      "A value is trying to be set on a copy of a slice from a DataFrame.\n",
      "Try using .loc[row_indexer,col_indexer] = value instead\n",
      "\n",
      "See the caveats in the documentation: https://pandas.pydata.org/pandas-docs/stable/user_guide/indexing.html#returning-a-view-versus-a-copy\n",
      "  review_text_5000['reviewText'] = review_text_5000['reviewText'].apply(lower_text)\\\n"
     ]
    },
    {
     "data": {
      "text/html": [
       "<div>\n",
       "<style scoped>\n",
       "    .dataframe tbody tr th:only-of-type {\n",
       "        vertical-align: middle;\n",
       "    }\n",
       "\n",
       "    .dataframe tbody tr th {\n",
       "        vertical-align: top;\n",
       "    }\n",
       "\n",
       "    .dataframe thead th {\n",
       "        text-align: right;\n",
       "    }\n",
       "</style>\n",
       "<table border=\"1\" class=\"dataframe\">\n",
       "  <thead>\n",
       "    <tr style=\"text-align: right;\">\n",
       "      <th></th>\n",
       "      <th>reviewText</th>\n",
       "      <th>sentiment</th>\n",
       "    </tr>\n",
       "  </thead>\n",
       "  <tbody>\n",
       "    <tr>\n",
       "      <th>0</th>\n",
       "      <td>enjoy vintag book movi enjoy read book plot un...</td>\n",
       "      <td>pos</td>\n",
       "    </tr>\n",
       "    <tr>\n",
       "      <th>1</th>\n",
       "      <td>book reissu old one author born 1910 era say n...</td>\n",
       "      <td>pos</td>\n",
       "    </tr>\n",
       "    <tr>\n",
       "      <th>2</th>\n",
       "      <td>fair interest read old style terminologyi glad...</td>\n",
       "      <td>pos</td>\n",
       "    </tr>\n",
       "    <tr>\n",
       "      <th>3</th>\n",
       "      <td>id never read ami brewster mysteri one realli ...</td>\n",
       "      <td>pos</td>\n",
       "    </tr>\n",
       "    <tr>\n",
       "      <th>4</th>\n",
       "      <td>like period piec cloth lingo enjoy mysteri aut...</td>\n",
       "      <td>pos</td>\n",
       "    </tr>\n",
       "    <tr>\n",
       "      <th>5</th>\n",
       "      <td>beauti indepth charact descript make like fast...</td>\n",
       "      <td>pos</td>\n",
       "    </tr>\n",
       "    <tr>\n",
       "      <th>6</th>\n",
       "      <td>enjoy one tho im sure call ami brewster myster...</td>\n",
       "      <td>pos</td>\n",
       "    </tr>\n",
       "    <tr>\n",
       "      <th>7</th>\n",
       "      <td>never heard ami brewster dont need like ami br...</td>\n",
       "      <td>pos</td>\n",
       "    </tr>\n",
       "    <tr>\n",
       "      <th>8</th>\n",
       "      <td>darth maul work cloak dark commit sabotag stor...</td>\n",
       "      <td>pos</td>\n",
       "    </tr>\n",
       "    <tr>\n",
       "      <th>9</th>\n",
       "      <td>short stori focus darth maul role help trade f...</td>\n",
       "      <td>pos</td>\n",
       "    </tr>\n",
       "  </tbody>\n",
       "</table>\n",
       "</div>"
      ],
      "text/plain": [
       "                                          reviewText sentiment\n",
       "0  enjoy vintag book movi enjoy read book plot un...       pos\n",
       "1  book reissu old one author born 1910 era say n...       pos\n",
       "2  fair interest read old style terminologyi glad...       pos\n",
       "3  id never read ami brewster mysteri one realli ...       pos\n",
       "4  like period piec cloth lingo enjoy mysteri aut...       pos\n",
       "5  beauti indepth charact descript make like fast...       pos\n",
       "6  enjoy one tho im sure call ami brewster myster...       pos\n",
       "7  never heard ami brewster dont need like ami br...       pos\n",
       "8  darth maul work cloak dark commit sabotag stor...       pos\n",
       "9  short stori focus darth maul role help trade f...       pos"
      ]
     },
     "execution_count": 37,
     "metadata": {},
     "output_type": "execute_result"
    }
   ],
   "source": [
    "import re, string\n",
    "\n",
    "# 将文本转化为小写\n",
    "def lower_text(text):\n",
    "    return text.lower()\n",
    "\n",
    "# 去除文本中的标点符号\n",
    "def remove_punctuation(text):\n",
    "    translator = str.maketrans('', '', string.punctuation)\n",
    "    return text.translate(translator)\n",
    "\n",
    "# 去除换行符\n",
    "def remove_newlines(text):\n",
    "    return text.replace('\\n', '')\n",
    "\n",
    "# 去除文本中的stopwords\n",
    "nltk.download('stopwords')\n",
    "stop_words = set(stopwords.words('english'))\n",
    "\n",
    "def remove_stopwords(text):\n",
    "    words = text.split()\n",
    "    return \" \".join([word for word in words if word.lower() not in stop_words])\n",
    "\n",
    "nltk.download('punkt')\n",
    "# 创建词干化器\n",
    "stemmer = SnowballStemmer('english')\n",
    "\n",
    "# 文本词干化和词形还原\n",
    "def stem_and_lemma(text):\n",
    "    text = text.lower()\n",
    "\n",
    "    # 词形还原\n",
    "    words = nltk.word_tokenize(text)\n",
    "\n",
    "    # 词干化\n",
    "    words = [stemmer.stem(word) for word in words]\n",
    "    return ' '.join(words)\n",
    "\n",
    "\n",
    "review_text_5000['reviewText'] = review_text_5000['reviewText'].apply(lower_text)\\\n",
    "                                                   .apply(remove_punctuation)\\\n",
    "                                                   .apply(remove_newlines)\\\n",
    "                                                   .apply(remove_stopwords)\\\n",
    "                                                   .apply(stem_and_lemma)\\\n",
    "                                                  \n",
    "review_text_5000.head(10)"
   ]
  },
  {
   "cell_type": "markdown",
   "id": "c8a3955b",
   "metadata": {},
   "source": [
    "原text preprocessing弃用："
   ]
  },
  {
   "cell_type": "code",
   "execution_count": 38,
   "id": "fb7a428a",
   "metadata": {
    "ExecuteTime": {
     "end_time": "2023-04-26T02:54:49.928614Z",
     "start_time": "2023-04-26T02:54:49.926255Z"
    },
    "scrolled": true
   },
   "outputs": [],
   "source": [
    "# # 下载停用词列表和词干化器\n",
    "# nltk.download('stopwords')\n",
    "# nltk.download('punkt')\n",
    "\n",
    "# # 创建停用词列表\n",
    "# stop_words = stopwords.words('english')\n",
    "\n",
    "# # 创建词干化器\n",
    "# stemmer = SnowballStemmer('english')\n",
    "\n",
    "# # 定义预处理函数\n",
    "# def preprocess(text):\n",
    "    \n",
    "#     # 将文本转换为小写\n",
    "#     text = text.lower()\n",
    "\n",
    "#     # 分词\n",
    "#     words = nltk.word_tokenize(text)\n",
    "\n",
    "#     # 去除停用词\n",
    "#     words = [word for word in words if word not in stop_words]\n",
    "\n",
    "#     # 词干化\n",
    "#     words = [stemmer.stem(word) for word in words]\n",
    "\n",
    "#     # 返回预处理后的文本\n",
    "#     return ' '.join(words)\n",
    "\n",
    "# # 对每行进行预处理\n",
    "# review_text_5000['processed_text'] = review_text_5000['reviewText'].apply(preprocess)\n",
    "\n",
    "# # 打印预处理后的结果\n",
    "# print(review_text_5000['processed_text'])\n"
   ]
  },
  {
   "cell_type": "code",
   "execution_count": 39,
   "id": "6b6811d4",
   "metadata": {
    "ExecuteTime": {
     "end_time": "2023-04-26T02:54:49.936864Z",
     "start_time": "2023-04-26T02:54:49.930803Z"
    }
   },
   "outputs": [
    {
     "data": {
      "text/html": [
       "<div>\n",
       "<style scoped>\n",
       "    .dataframe tbody tr th:only-of-type {\n",
       "        vertical-align: middle;\n",
       "    }\n",
       "\n",
       "    .dataframe tbody tr th {\n",
       "        vertical-align: top;\n",
       "    }\n",
       "\n",
       "    .dataframe thead th {\n",
       "        text-align: right;\n",
       "    }\n",
       "</style>\n",
       "<table border=\"1\" class=\"dataframe\">\n",
       "  <thead>\n",
       "    <tr style=\"text-align: right;\">\n",
       "      <th></th>\n",
       "      <th>reviewText</th>\n",
       "      <th>sentiment</th>\n",
       "    </tr>\n",
       "  </thead>\n",
       "  <tbody>\n",
       "    <tr>\n",
       "      <th>0</th>\n",
       "      <td>enjoy vintag book movi enjoy read book plot un...</td>\n",
       "      <td>pos</td>\n",
       "    </tr>\n",
       "    <tr>\n",
       "      <th>1</th>\n",
       "      <td>book reissu old one author born 1910 era say n...</td>\n",
       "      <td>pos</td>\n",
       "    </tr>\n",
       "    <tr>\n",
       "      <th>2</th>\n",
       "      <td>fair interest read old style terminologyi glad...</td>\n",
       "      <td>pos</td>\n",
       "    </tr>\n",
       "    <tr>\n",
       "      <th>3</th>\n",
       "      <td>id never read ami brewster mysteri one realli ...</td>\n",
       "      <td>pos</td>\n",
       "    </tr>\n",
       "    <tr>\n",
       "      <th>4</th>\n",
       "      <td>like period piec cloth lingo enjoy mysteri aut...</td>\n",
       "      <td>pos</td>\n",
       "    </tr>\n",
       "    <tr>\n",
       "      <th>...</th>\n",
       "      <td>...</td>\n",
       "      <td>...</td>\n",
       "    </tr>\n",
       "    <tr>\n",
       "      <th>4995</th>\n",
       "      <td>good stuffthi terrif storyth write skill seen ...</td>\n",
       "      <td>pos</td>\n",
       "    </tr>\n",
       "    <tr>\n",
       "      <th>4996</th>\n",
       "      <td>short enough read chili cook keep interest beg...</td>\n",
       "      <td>pos</td>\n",
       "    </tr>\n",
       "    <tr>\n",
       "      <th>4997</th>\n",
       "      <td>end expect done didnt expect much 99cent book ...</td>\n",
       "      <td>neg</td>\n",
       "    </tr>\n",
       "    <tr>\n",
       "      <th>4998</th>\n",
       "      <td>say mix feel short although initiali start int...</td>\n",
       "      <td>neg</td>\n",
       "    </tr>\n",
       "    <tr>\n",
       "      <th>4999</th>\n",
       "      <td>bought novel time ago sit kindl gather edust e...</td>\n",
       "      <td>pos</td>\n",
       "    </tr>\n",
       "  </tbody>\n",
       "</table>\n",
       "<p>5000 rows × 2 columns</p>\n",
       "</div>"
      ],
      "text/plain": [
       "                                             reviewText sentiment\n",
       "0     enjoy vintag book movi enjoy read book plot un...       pos\n",
       "1     book reissu old one author born 1910 era say n...       pos\n",
       "2     fair interest read old style terminologyi glad...       pos\n",
       "3     id never read ami brewster mysteri one realli ...       pos\n",
       "4     like period piec cloth lingo enjoy mysteri aut...       pos\n",
       "...                                                 ...       ...\n",
       "4995  good stuffthi terrif storyth write skill seen ...       pos\n",
       "4996  short enough read chili cook keep interest beg...       pos\n",
       "4997  end expect done didnt expect much 99cent book ...       neg\n",
       "4998  say mix feel short although initiali start int...       neg\n",
       "4999  bought novel time ago sit kindl gather edust e...       pos\n",
       "\n",
       "[5000 rows x 2 columns]"
      ]
     },
     "execution_count": 39,
     "metadata": {},
     "output_type": "execute_result"
    }
   ],
   "source": [
    "review_text_5000"
   ]
  },
  {
   "cell_type": "code",
   "execution_count": 40,
   "id": "8e1c4b88",
   "metadata": {
    "ExecuteTime": {
     "end_time": "2023-04-26T02:55:45.832432Z",
     "start_time": "2023-04-26T02:54:49.938617Z"
    }
   },
   "outputs": [],
   "source": [
    "nlp = spacy.load('en_core_web_sm')\n",
    "# 创建语料库\n",
    "corpus = st.CorpusFromPandas(review_text_5000, category_col='sentiment', text_col='reviewText', nlp=nlp).build()\n"
   ]
  },
  {
   "cell_type": "code",
   "execution_count": 41,
   "id": "d9d769f0",
   "metadata": {
    "ExecuteTime": {
     "end_time": "2023-04-26T02:55:45.841884Z",
     "start_time": "2023-04-26T02:55:45.834418Z"
    }
   },
   "outputs": [
    {
     "data": {
      "text/html": [
       "<div>\n",
       "<style scoped>\n",
       "    .dataframe tbody tr th:only-of-type {\n",
       "        vertical-align: middle;\n",
       "    }\n",
       "\n",
       "    .dataframe tbody tr th {\n",
       "        vertical-align: top;\n",
       "    }\n",
       "\n",
       "    .dataframe thead th {\n",
       "        text-align: right;\n",
       "    }\n",
       "</style>\n",
       "<table border=\"1\" class=\"dataframe\">\n",
       "  <thead>\n",
       "    <tr style=\"text-align: right;\">\n",
       "      <th></th>\n",
       "      <th>level_0</th>\n",
       "      <th>index</th>\n",
       "      <th>reviewText</th>\n",
       "      <th>sentiment</th>\n",
       "    </tr>\n",
       "  </thead>\n",
       "  <tbody>\n",
       "    <tr>\n",
       "      <th>0</th>\n",
       "      <td>0</td>\n",
       "      <td>0</td>\n",
       "      <td>enjoy vintag book movi enjoy read book plot un...</td>\n",
       "      <td>pos</td>\n",
       "    </tr>\n",
       "    <tr>\n",
       "      <th>1</th>\n",
       "      <td>1</td>\n",
       "      <td>1</td>\n",
       "      <td>book reissu old one author born 1910 era say n...</td>\n",
       "      <td>pos</td>\n",
       "    </tr>\n",
       "    <tr>\n",
       "      <th>2</th>\n",
       "      <td>2</td>\n",
       "      <td>2</td>\n",
       "      <td>fair interest read old style terminologyi glad...</td>\n",
       "      <td>pos</td>\n",
       "    </tr>\n",
       "    <tr>\n",
       "      <th>3</th>\n",
       "      <td>3</td>\n",
       "      <td>3</td>\n",
       "      <td>id never read ami brewster mysteri one realli ...</td>\n",
       "      <td>pos</td>\n",
       "    </tr>\n",
       "    <tr>\n",
       "      <th>4</th>\n",
       "      <td>4</td>\n",
       "      <td>4</td>\n",
       "      <td>like period piec cloth lingo enjoy mysteri aut...</td>\n",
       "      <td>pos</td>\n",
       "    </tr>\n",
       "    <tr>\n",
       "      <th>...</th>\n",
       "      <td>...</td>\n",
       "      <td>...</td>\n",
       "      <td>...</td>\n",
       "      <td>...</td>\n",
       "    </tr>\n",
       "    <tr>\n",
       "      <th>4995</th>\n",
       "      <td>4995</td>\n",
       "      <td>4995</td>\n",
       "      <td>good stuffthi terrif storyth write skill seen ...</td>\n",
       "      <td>pos</td>\n",
       "    </tr>\n",
       "    <tr>\n",
       "      <th>4996</th>\n",
       "      <td>4996</td>\n",
       "      <td>4996</td>\n",
       "      <td>short enough read chili cook keep interest beg...</td>\n",
       "      <td>pos</td>\n",
       "    </tr>\n",
       "    <tr>\n",
       "      <th>4997</th>\n",
       "      <td>4997</td>\n",
       "      <td>4997</td>\n",
       "      <td>end expect done didnt expect much 99cent book ...</td>\n",
       "      <td>neg</td>\n",
       "    </tr>\n",
       "    <tr>\n",
       "      <th>4998</th>\n",
       "      <td>4998</td>\n",
       "      <td>4998</td>\n",
       "      <td>say mix feel short although initiali start int...</td>\n",
       "      <td>neg</td>\n",
       "    </tr>\n",
       "    <tr>\n",
       "      <th>4999</th>\n",
       "      <td>4999</td>\n",
       "      <td>4999</td>\n",
       "      <td>bought novel time ago sit kindl gather edust e...</td>\n",
       "      <td>pos</td>\n",
       "    </tr>\n",
       "  </tbody>\n",
       "</table>\n",
       "<p>5000 rows × 4 columns</p>\n",
       "</div>"
      ],
      "text/plain": [
       "      level_0  index                                         reviewText  \\\n",
       "0           0      0  enjoy vintag book movi enjoy read book plot un...   \n",
       "1           1      1  book reissu old one author born 1910 era say n...   \n",
       "2           2      2  fair interest read old style terminologyi glad...   \n",
       "3           3      3  id never read ami brewster mysteri one realli ...   \n",
       "4           4      4  like period piec cloth lingo enjoy mysteri aut...   \n",
       "...       ...    ...                                                ...   \n",
       "4995     4995   4995  good stuffthi terrif storyth write skill seen ...   \n",
       "4996     4996   4996  short enough read chili cook keep interest beg...   \n",
       "4997     4997   4997  end expect done didnt expect much 99cent book ...   \n",
       "4998     4998   4998  say mix feel short although initiali start int...   \n",
       "4999     4999   4999  bought novel time ago sit kindl gather edust e...   \n",
       "\n",
       "     sentiment  \n",
       "0          pos  \n",
       "1          pos  \n",
       "2          pos  \n",
       "3          pos  \n",
       "4          pos  \n",
       "...        ...  \n",
       "4995       pos  \n",
       "4996       pos  \n",
       "4997       neg  \n",
       "4998       neg  \n",
       "4999       pos  \n",
       "\n",
       "[5000 rows x 4 columns]"
      ]
     },
     "execution_count": 41,
     "metadata": {},
     "output_type": "execute_result"
    }
   ],
   "source": [
    "corpus.get_df()"
   ]
  },
  {
   "cell_type": "code",
   "execution_count": 42,
   "id": "6de1cc25",
   "metadata": {
    "ExecuteTime": {
     "end_time": "2023-04-26T02:55:45.914886Z",
     "start_time": "2023-04-26T02:55:45.844112Z"
    },
    "scrolled": false
   },
   "outputs": [],
   "source": [
    "term_freq_df = corpus.get_term_freq_df()\n",
    "term_freq_df['pos_score'] = corpus.get_scaled_f_scores('pos')\n",
    "pos_most = list(term_freq_df.sort_values(by='pos_score',ascending=False).index[:100])"
   ]
  },
  {
   "cell_type": "code",
   "execution_count": 43,
   "id": "ae40d6a9",
   "metadata": {
    "ExecuteTime": {
     "end_time": "2023-04-26T02:55:45.968007Z",
     "start_time": "2023-04-26T02:55:45.916368Z"
    }
   },
   "outputs": [],
   "source": [
    "term_freq_df['neg_score'] = corpus.get_scaled_f_scores('neg')\n",
    "neg_most = list(term_freq_df.sort_values(by='neg_score',ascending=False).index[:100])"
   ]
  },
  {
   "cell_type": "code",
   "execution_count": 44,
   "id": "78ba15c8",
   "metadata": {
    "ExecuteTime": {
     "end_time": "2023-04-26T02:55:45.977134Z",
     "start_time": "2023-04-26T02:55:45.969398Z"
    }
   },
   "outputs": [
    {
     "data": {
      "text/html": [
       "<div>\n",
       "<style scoped>\n",
       "    .dataframe tbody tr th:only-of-type {\n",
       "        vertical-align: middle;\n",
       "    }\n",
       "\n",
       "    .dataframe tbody tr th {\n",
       "        vertical-align: top;\n",
       "    }\n",
       "\n",
       "    .dataframe thead th {\n",
       "        text-align: right;\n",
       "    }\n",
       "</style>\n",
       "<table border=\"1\" class=\"dataframe\">\n",
       "  <thead>\n",
       "    <tr style=\"text-align: right;\">\n",
       "      <th></th>\n",
       "      <th>pos freq</th>\n",
       "      <th>neg freq</th>\n",
       "      <th>pos_score</th>\n",
       "      <th>neg_score</th>\n",
       "    </tr>\n",
       "    <tr>\n",
       "      <th>term</th>\n",
       "      <th></th>\n",
       "      <th></th>\n",
       "      <th></th>\n",
       "      <th></th>\n",
       "    </tr>\n",
       "  </thead>\n",
       "  <tbody>\n",
       "    <tr>\n",
       "      <th>enjoy</th>\n",
       "      <td>1223</td>\n",
       "      <td>249</td>\n",
       "      <td>0.937685</td>\n",
       "      <td>0.062315</td>\n",
       "    </tr>\n",
       "    <tr>\n",
       "      <th>vintag</th>\n",
       "      <td>4</td>\n",
       "      <td>0</td>\n",
       "      <td>0.561051</td>\n",
       "      <td>0.438949</td>\n",
       "    </tr>\n",
       "    <tr>\n",
       "      <th>book</th>\n",
       "      <td>4205</td>\n",
       "      <td>1515</td>\n",
       "      <td>0.162445</td>\n",
       "      <td>0.837555</td>\n",
       "    </tr>\n",
       "    <tr>\n",
       "      <th>movi</th>\n",
       "      <td>91</td>\n",
       "      <td>24</td>\n",
       "      <td>0.916006</td>\n",
       "      <td>0.083994</td>\n",
       "    </tr>\n",
       "    <tr>\n",
       "      <th>read</th>\n",
       "      <td>3628</td>\n",
       "      <td>1007</td>\n",
       "      <td>0.911044</td>\n",
       "      <td>0.088956</td>\n",
       "    </tr>\n",
       "    <tr>\n",
       "      <th>...</th>\n",
       "      <td>...</td>\n",
       "      <td>...</td>\n",
       "      <td>...</td>\n",
       "      <td>...</td>\n",
       "    </tr>\n",
       "    <tr>\n",
       "      <th>statement place</th>\n",
       "      <td>1</td>\n",
       "      <td>0</td>\n",
       "      <td>0.503628</td>\n",
       "      <td>0.496372</td>\n",
       "    </tr>\n",
       "    <tr>\n",
       "      <th>place want</th>\n",
       "      <td>1</td>\n",
       "      <td>0</td>\n",
       "      <td>0.503628</td>\n",
       "      <td>0.496372</td>\n",
       "    </tr>\n",
       "    <tr>\n",
       "      <th>back fun</th>\n",
       "      <td>1</td>\n",
       "      <td>0</td>\n",
       "      <td>0.503628</td>\n",
       "      <td>0.496372</td>\n",
       "    </tr>\n",
       "    <tr>\n",
       "      <th>let author</th>\n",
       "      <td>1</td>\n",
       "      <td>0</td>\n",
       "      <td>0.503628</td>\n",
       "      <td>0.496372</td>\n",
       "    </tr>\n",
       "    <tr>\n",
       "      <th>author entertain</th>\n",
       "      <td>1</td>\n",
       "      <td>0</td>\n",
       "      <td>0.503628</td>\n",
       "      <td>0.496372</td>\n",
       "    </tr>\n",
       "  </tbody>\n",
       "</table>\n",
       "<p>191392 rows × 4 columns</p>\n",
       "</div>"
      ],
      "text/plain": [
       "                  pos freq  neg freq  pos_score  neg_score\n",
       "term                                                      \n",
       "enjoy                 1223       249   0.937685   0.062315\n",
       "vintag                   4         0   0.561051   0.438949\n",
       "book                  4205      1515   0.162445   0.837555\n",
       "movi                    91        24   0.916006   0.083994\n",
       "read                  3628      1007   0.911044   0.088956\n",
       "...                    ...       ...        ...        ...\n",
       "statement place          1         0   0.503628   0.496372\n",
       "place want               1         0   0.503628   0.496372\n",
       "back fun                 1         0   0.503628   0.496372\n",
       "let author               1         0   0.503628   0.496372\n",
       "author entertain         1         0   0.503628   0.496372\n",
       "\n",
       "[191392 rows x 4 columns]"
      ]
     },
     "execution_count": 44,
     "metadata": {},
     "output_type": "execute_result"
    }
   ],
   "source": [
    "term_freq_df"
   ]
  },
  {
   "cell_type": "code",
   "execution_count": 45,
   "id": "ebc194b1",
   "metadata": {
    "ExecuteTime": {
     "end_time": "2023-04-26T02:55:45.981148Z",
     "start_time": "2023-04-26T02:55:45.978673Z"
    }
   },
   "outputs": [
    {
     "name": "stdout",
     "output_type": "stream",
     "text": [
      "Positive words: ['morgan', 'nt wait', 'bella', 'joy', 'high recommend', 'must read', 'great read', 'zsadist', 'joy review', 'wait read', 'delight', 'nt put', 'love charact', 'cat', 'love book', 'book love', 'lisa', 'excel', 'love love', 'jackson', 'well worth', 'amaz', 'jon', 'thorough enjoy', 'brenda', 'vampir', 'angel', 'shane', 'emma', 'puma', 'captiv', 'rafe', 'grow', 'pride', 'enjoy read', 'realli enjoy', 'love read', 'one favorit', 'great book', 'awesom', 'fantast', 'put book', 'insid', 'cole', 'truli', 'map', 'luke', 'thorough', 'fairi tale', 'brian', 'brett', 'ms', 'bell', 'touch', 'favorit', 'daughter', 'fairi', 'love', 'visit', 'fascin', 'perfect', 'secret', 'classic', 'book great', 'could put', 'laugh', 'great stori', 'jule', 'bodi', 'home', 'max', 'blood', 'look forward', 'start read', 'brought', 'paranorm', 'aislinn', 'what', 'memori', 'known', 'pleasur', 'read next', 'passion', 'julia', 'happi', 'great', 'hall', 'collect', 'sensual', 'happili', 'fun read', 'ami', 'wait next', 'wolf', 'kate', 'vern', 'readi', 'rachel', 'soul', 'next one']\n",
      "Negative words: ['delet', 'quinton', '3 star', 'regina', 'unrealist', 'wast', 'skim', 'sentenc', 'nt finish', 'bore', 'nt bad', 'stupid', 'grammat error', 'terribl', 'wast time', 'grammat', 'premis', 'three star', 'much better', 'poor', 'ok', 'potenti', 'okay', 'finish book', 'unbeliev', 'grammar', 'skip', 'bare', 'nt realli', 'half', 'sampl', 'stori could', 'flat', 'weak', 'make sens', 'silli', 'suppos', 'sorri', 'bad', 'star war', 'unless', 'caleb', 'nt seem', 'predict', 'basic', 'pay', 'read review', 'lack', 'halfway', '2 star', 'felt like', 'victim', 'bother', 'flesh', 'unfortun', 'improv', 'nt buy', 'nors', 'comment', 'wsj', 'kasey', 'pretti much', 'sound', 'error', 'sex scene', 'nyt', 'ridicul', 'cassandra', 'nt feel', '60', 'read like', 'paid', 'paragraph', 'sith', 'rape', 'joke', 'fine', 'seem like', 'worst', 'stori seem', 'switch', 'spell', 'nt even', 'charact develop', 'first half', 'would nt', 'rush', 'nt bother', 'annoy', 'money', 'did nt', 'did', 'appar', 'shallow', 'crash', 'exampl', 'toward', 'luc', 'm sure', 'confus']\n"
     ]
    }
   ],
   "source": [
    "print('Positive words:',pos_most)\n",
    "print('Negative words:',neg_most)"
   ]
  },
  {
   "cell_type": "code",
   "execution_count": 46,
   "id": "abe4b69f",
   "metadata": {
    "ExecuteTime": {
     "end_time": "2023-04-26T02:55:47.128610Z",
     "start_time": "2023-04-26T02:55:45.982845Z"
    }
   },
   "outputs": [
    {
     "data": {
      "text/plain": [
       "3150241"
      ]
     },
     "execution_count": 46,
     "metadata": {},
     "output_type": "execute_result"
    }
   ],
   "source": [
    "html = st.produce_scattertext_explorer(corpus, category='pos', category_name='pos', not_category_name='neg',\n",
    "                                      width_in_pixels=1000,metadata=review_text_5000['sentiment'])\n",
    "open(\"scattertext_01.html\",'wb').write(html.encode('utf-8'))\n"
   ]
  },
  {
   "cell_type": "code",
   "execution_count": 64,
   "id": "f7041e58",
   "metadata": {
    "ExecuteTime": {
     "end_time": "2023-04-26T04:41:23.702796Z",
     "start_time": "2023-04-26T04:41:23.696729Z"
    }
   },
   "outputs": [],
   "source": [
    "# from IPython.display import IFrame\n",
    "# html_path = '/Users/Link/Documents/5005数据可视化/Group project/archive/scattertext_01.html'\n",
    "# iframe = IFrame(src=html_path, width=1300, height=700)\n",
    "# display(iframe)"
   ]
  },
  {
   "cell_type": "code",
   "execution_count": 65,
   "id": "ee45e249",
   "metadata": {
    "ExecuteTime": {
     "end_time": "2023-04-26T04:41:24.046489Z",
     "start_time": "2023-04-26T04:41:24.021433Z"
    }
   },
   "outputs": [],
   "source": [
    "review_text_5000 = review_text_5000.iloc[:5000,:]"
   ]
  },
  {
   "cell_type": "code",
   "execution_count": 66,
   "id": "2b0770df",
   "metadata": {
    "ExecuteTime": {
     "end_time": "2023-04-26T04:42:21.003561Z",
     "start_time": "2023-04-26T04:41:24.440277Z"
    }
   },
   "outputs": [],
   "source": [
    "nlp = spacy.load('en_core_web_sm')\n",
    "# 创建语料库\n",
    "corpus_5000 = st.CorpusFromPandas(review_text_5000, category_col='sentiment', text_col='reviewText', nlp=nlp).build().get_unigram_corpus().compact(st.ClassPercentageCompactor(term_count=2,term_ranker=st.OncePerDocFrequencyRanker))\n"
   ]
  },
  {
   "cell_type": "code",
   "execution_count": 67,
   "id": "04eef9f7",
   "metadata": {
    "ExecuteTime": {
     "end_time": "2023-04-26T04:42:21.659150Z",
     "start_time": "2023-04-26T04:42:21.005995Z"
    }
   },
   "outputs": [
    {
     "data": {
      "text/plain": [
       "3070908"
      ]
     },
     "execution_count": 67,
     "metadata": {},
     "output_type": "execute_result"
    }
   ],
   "source": [
    "html = st.produce_characteristic_explorer(\n",
    "    corpus_5000,\n",
    "    category='pos',\n",
    "    category_name='pos',\n",
    "    not_category_name='neg',\n",
    "    metadata=review_text_5000['sentiment']\n",
    ")\n",
    "open('demo_characteristic_chart.html', 'wb').write(html.encode('utf-8'))"
   ]
  },
  {
   "cell_type": "code",
   "execution_count": 69,
   "id": "8913f7f6",
   "metadata": {
    "ExecuteTime": {
     "end_time": "2023-04-26T04:54:33.469408Z",
     "start_time": "2023-04-26T04:54:29.727397Z"
    }
   },
   "outputs": [
    {
     "name": "stdout",
     "output_type": "stream",
     "text": [
      "Collecting empath\n",
      "  Downloading empath-0.89.tar.gz (57 kB)\n",
      "\u001b[2K     \u001b[90m━━━━━━━━━━━━━━━━━━━━━━━━━━━━━━━━━━━━━━━━\u001b[0m \u001b[32m57.6/57.6 kB\u001b[0m \u001b[31m2.9 MB/s\u001b[0m eta \u001b[36m0:00:00\u001b[0m\n",
      "\u001b[?25h  Preparing metadata (setup.py) ... \u001b[?25ldone\n",
      "\u001b[?25hRequirement already satisfied: requests in /Users/Link/opt/anaconda3/envs/NLP/lib/python3.9/site-packages (from empath) (2.28.1)\n",
      "Requirement already satisfied: idna<4,>=2.5 in /Users/Link/opt/anaconda3/envs/NLP/lib/python3.9/site-packages (from requests->empath) (3.4)\n",
      "Requirement already satisfied: certifi>=2017.4.17 in /Users/Link/opt/anaconda3/envs/NLP/lib/python3.9/site-packages (from requests->empath) (2022.12.7)\n",
      "Requirement already satisfied: charset-normalizer<3,>=2 in /Users/Link/opt/anaconda3/envs/NLP/lib/python3.9/site-packages (from requests->empath) (2.0.4)\n",
      "Requirement already satisfied: urllib3<1.27,>=1.21.1 in /Users/Link/opt/anaconda3/envs/NLP/lib/python3.9/site-packages (from requests->empath) (1.26.14)\n",
      "Building wheels for collected packages: empath\n",
      "  Building wheel for empath (setup.py) ... \u001b[?25ldone\n",
      "\u001b[?25h  Created wheel for empath: filename=empath-0.89-py3-none-any.whl size=57799 sha256=243f15c555a43ac998fce7596a910e4f95ae579f69b270c287db37c6f033899b\n",
      "  Stored in directory: /Users/Link/Library/Caches/pip/wheels/bc/12/66/f34f90f8d11dd984ba54f3d58fa578208caa85fa001d4d3c86\n",
      "Successfully built empath\n",
      "Installing collected packages: empath\n",
      "Successfully installed empath-0.89\n",
      "Note: you may need to restart the kernel to use updated packages.\n"
     ]
    }
   ],
   "source": [
    "pip install empath"
   ]
  },
  {
   "cell_type": "code",
   "execution_count": 70,
   "id": "87f96c2d",
   "metadata": {
    "ExecuteTime": {
     "end_time": "2023-04-26T04:55:24.812485Z",
     "start_time": "2023-04-26T04:54:50.493899Z"
    }
   },
   "outputs": [
    {
     "data": {
      "text/plain": [
       "4105140"
      ]
     },
     "execution_count": 70,
     "metadata": {},
     "output_type": "execute_result"
    }
   ],
   "source": [
    "import empath\n",
    "\n",
    "feat_builder = st.FeatsFromOnlyEmpath()\n",
    "empath_corpus = st.CorpusFromParsedDocuments(review_text_5000,\n",
    "                                            category_col='sentiment',\n",
    "                                            feats_from_spacy_doc=feat_builder,\n",
    "                                             parsed_col='reviewText').build()\n",
    "html = st.produce_scattertext_explorer(empath_corpus,\n",
    "                                       category='pos',\n",
    "                                     category_name='pos',\n",
    "                                    not_category_name='neg',\n",
    "                                      width_in_pixels=1000,\n",
    "                                      metadata=review_text_5000['sentiment'],\n",
    "                                   use_non_text_features=True,\n",
    "                                      use_full_doc=True,\n",
    "                                        topic_model_term_lists=feat_builder.get_top_model_term_lists())\n",
    "open(\"Convention-Visualization-Empath.html\", 'wb').write(html.encode('utf-8'))"
   ]
  },
  {
   "cell_type": "code",
   "execution_count": null,
   "id": "b3e8001b",
   "metadata": {},
   "outputs": [],
   "source": []
  }
 ],
 "metadata": {
  "kernelspec": {
   "display_name": "Python 3 (ipykernel)",
   "language": "python",
   "name": "python3"
  },
  "language_info": {
   "codemirror_mode": {
    "name": "ipython",
    "version": 3
   },
   "file_extension": ".py",
   "mimetype": "text/x-python",
   "name": "python",
   "nbconvert_exporter": "python",
   "pygments_lexer": "ipython3",
   "version": "3.9.16"
  }
 },
 "nbformat": 4,
 "nbformat_minor": 5
}
